{
  "nbformat": 4,
  "nbformat_minor": 0,
  "metadata": {
    "colab": {
      "name": "03-spam-sol.ipynb",
      "version": "0.3.2",
      "provenance": [],
      "collapsed_sections": [
        "Yap7_qMhmHg2"
      ]
    },
    "kernelspec": {
      "name": "python3",
      "display_name": "Python 3"
    }
  },
  "cells": [
    {
      "metadata": {
        "id": "oJr1NqTwaouL",
        "colab_type": "code",
        "colab": {}
      },
      "cell_type": "code",
      "source": [
        "import os\n",
        "import numpy as np\n",
        "import pandas as pd\n",
        "import matplotlib.pyplot as plt\n",
        "\n",
        "#Expresiones regulares\n",
        "import re\n",
        "\n",
        "#Para el filtrado de numeros\n",
        "from string import digits\n",
        "\n",
        "%matplotlib inline\n"
      ],
      "execution_count": 0,
      "outputs": []
    },
    {
      "metadata": {
        "id": "mn87xEqYBKkm",
        "colab_type": "code",
        "colab": {}
      },
      "cell_type": "code",
      "source": [
        "#Modelo de regresion lineal\n",
        "from sklearn.linear_model import LogisticRegression\n",
        "from sklearn.model_selection import cross_val_score\n",
        "from sklearn.model_selection import train_test_split\n",
        "from sklearn.model_selection import KFold\n",
        "from sklearn.metrics import confusion_matrix"
      ],
      "execution_count": 0,
      "outputs": []
    },
    {
      "metadata": {
        "id": "b9y-nFwzuEe6",
        "colab_type": "code",
        "colab": {}
      },
      "cell_type": "code",
      "source": [
        "!pip install unidecode"
      ],
      "execution_count": 0,
      "outputs": []
    },
    {
      "metadata": {
        "id": "rvBe_0T8uG3y",
        "colab_type": "code",
        "colab": {}
      },
      "cell_type": "code",
      "source": [
        "#Para acentos y tildes\n",
        "from unidecode import unidecode"
      ],
      "execution_count": 0,
      "outputs": []
    },
    {
      "metadata": {
        "id": "Y4BXjwXzuzIQ",
        "colab_type": "code",
        "colab": {}
      },
      "cell_type": "code",
      "source": [
        "#Natural Language Toolkit: NLTK is a leading platform for building Python programs to work with human language data\n",
        "import nltk\n",
        "from nltk.tokenize import word_tokenize\n",
        "from nltk.corpus import stopwords\n",
        "from nltk.stem.porter import PorterStemmer\n"
      ],
      "execution_count": 0,
      "outputs": []
    },
    {
      "metadata": {
        "id": "uVrBAF0dpzh0",
        "colab_type": "code",
        "colab": {
          "base_uri": "https://localhost:8080/",
          "height": 102
        },
        "outputId": "eb270484-7ebf-4762-9b30-ae618050ebf4"
      },
      "cell_type": "code",
      "source": [
        "nltk.download('punkt')\n",
        "nltk.download('stopwords')"
      ],
      "execution_count": 51,
      "outputs": [
        {
          "output_type": "stream",
          "text": [
            "[nltk_data] Downloading package punkt to /root/nltk_data...\n",
            "[nltk_data]   Package punkt is already up-to-date!\n",
            "[nltk_data] Downloading package stopwords to /root/nltk_data...\n",
            "[nltk_data]   Unzipping corpora/stopwords.zip.\n"
          ],
          "name": "stdout"
        },
        {
          "output_type": "execute_result",
          "data": {
            "text/plain": [
              "True"
            ]
          },
          "metadata": {
            "tags": []
          },
          "execution_count": 51
        }
      ]
    },
    {
      "metadata": {
        "id": "A3NMUCU5iaI3",
        "colab_type": "code",
        "colab": {}
      },
      "cell_type": "code",
      "source": [
        "#Para la Red Neuronal\n",
        "from tensorflow.keras import Sequential\n",
        "from tensorflow.keras.layers import Dense\n",
        "from tensorflow.keras.layers import Dropout\n",
        "from tensorflow.keras.wrappers.scikit_learn import KerasClassifier\n"
      ],
      "execution_count": 0,
      "outputs": []
    },
    {
      "metadata": {
        "id": "j_JycMpajQX9",
        "colab_type": "code",
        "colab": {}
      },
      "cell_type": "code",
      "source": [
        "!pip install numpy==1.16.1"
      ],
      "execution_count": 0,
      "outputs": []
    },
    {
      "metadata": {
        "id": "BSXIiI9NjHpi",
        "colab_type": "code",
        "colab": {}
      },
      "cell_type": "code",
      "source": [
        "!pip install pandas==0.24.1"
      ],
      "execution_count": 0,
      "outputs": []
    },
    {
      "metadata": {
        "id": "SUX9lAWAixwi",
        "colab_type": "code",
        "outputId": "ff3c861c-0230-42b3-d0eb-2b018fd87678",
        "colab": {
          "base_uri": "https://localhost:8080/",
          "height": 51
        }
      },
      "cell_type": "code",
      "source": [
        "print(np.__version__)\n",
        "print(pd.__version__)"
      ],
      "execution_count": 3,
      "outputs": [
        {
          "output_type": "stream",
          "text": [
            "1.16.1\n",
            "0.24.1\n"
          ],
          "name": "stdout"
        }
      ]
    },
    {
      "metadata": {
        "id": "2AwNQ2Aibg5b",
        "colab_type": "text"
      },
      "cell_type": "markdown",
      "source": [
        "## Lectura de los datos"
      ]
    },
    {
      "metadata": {
        "id": "4yKH_FXSbje7",
        "colab_type": "code",
        "outputId": "14f53a80-de6a-4728-ea0f-7dab7d47782f",
        "colab": {
          "base_uri": "https://localhost:8080/",
          "height": 122
        }
      },
      "cell_type": "code",
      "source": [
        "from google.colab import drive\n",
        "drive.mount('/content/gdrive')"
      ],
      "execution_count": 5,
      "outputs": [
        {
          "output_type": "stream",
          "text": [
            "Go to this URL in a browser: https://accounts.google.com/o/oauth2/auth?client_id=947318989803-6bn6qk8qdgf4n4g3pfee6491hc0brc4i.apps.googleusercontent.com&redirect_uri=urn%3Aietf%3Awg%3Aoauth%3A2.0%3Aoob&scope=email%20https%3A%2F%2Fwww.googleapis.com%2Fauth%2Fdocs.test%20https%3A%2F%2Fwww.googleapis.com%2Fauth%2Fdrive%20https%3A%2F%2Fwww.googleapis.com%2Fauth%2Fdrive.photos.readonly%20https%3A%2F%2Fwww.googleapis.com%2Fauth%2Fpeopleapi.readonly&response_type=code\n",
            "\n",
            "Enter your authorization code:\n",
            "··········\n",
            "Mounted at /content/gdrive\n"
          ],
          "name": "stdout"
        }
      ]
    },
    {
      "metadata": {
        "id": "AKdC7aIgbnD6",
        "colab_type": "code",
        "colab": {}
      },
      "cell_type": "code",
      "source": [
        "ham_dir = '/content/gdrive/My Drive/RN/datos/spam-filter/easy_ham/'\n",
        "spam_dir = '/content/gdrive/My Drive/RN/datos/spam-filter/spam/'\n",
        "spam_2_dir = '/content/gdrive/My Drive/RN/datos/spam-filter/spam_2/'"
      ],
      "execution_count": 0,
      "outputs": []
    },
    {
      "metadata": {
        "id": "1aw2ESq-j-YT",
        "colab_type": "code",
        "colab": {}
      },
      "cell_type": "code",
      "source": [
        "#Se leen todos los ficheros de cada folder y se concatenan. Arreglo de archivos.\n",
        "ham_files = [os.path.join(ham_dir, f) for f in os.listdir(ham_dir)]\n",
        "spam_files = [os.path.join(spam_dir, f) for f in os.listdir(spam_dir)]\n",
        "spam_files += [os.path.join(spam_2_dir, f) for f in os.listdir(spam_2_dir)]"
      ],
      "execution_count": 0,
      "outputs": []
    },
    {
      "metadata": {
        "id": "GUigwzNhkNXs",
        "colab_type": "code",
        "outputId": "7f1e87fc-6815-46de-8dad-e9f44497f058",
        "colab": {
          "base_uri": "https://localhost:8080/",
          "height": 51
        }
      },
      "cell_type": "code",
      "source": [
        "print(len(ham_files))\n",
        "print(len(spam_files))"
      ],
      "execution_count": 9,
      "outputs": [
        {
          "output_type": "stream",
          "text": [
            "2501\n",
            "1899\n"
          ],
          "name": "stdout"
        }
      ]
    },
    {
      "metadata": {
        "id": "038PrXGylwU6",
        "colab_type": "text"
      },
      "cell_type": "markdown",
      "source": [
        "## Limpieza de los datos"
      ]
    },
    {
      "metadata": {
        "id": "Gxw2gvCOmKYd",
        "colab_type": "text"
      },
      "cell_type": "markdown",
      "source": [
        "### Eliminando Metadata\n",
        "Borra el primer bloque del mensaje hasta encontrar la primera linea en blanco: **'\\n'**."
      ]
    },
    {
      "metadata": {
        "id": "mXSo1YItl8OE",
        "colab_type": "code",
        "colab": {}
      },
      "cell_type": "code",
      "source": [
        "ham = []\n",
        "spam = []\n",
        "\n",
        "for file in ham_files:\n",
        "    with open(file, encoding='latin-1') as f:\n",
        "        lines = f.readlines()\n",
        "        for line in lines:\n",
        "            lines = lines[1:]\n",
        "            if line == '\\n':\n",
        "                break\n",
        "        ham.append(lines)\n",
        "\n",
        "for file in spam_files:\n",
        "    with open(file,encoding='latin-1') as f:\n",
        "        lines = f.readlines()\n",
        "        for line in lines:\n",
        "            lines = lines[1:]\n",
        "            if line == '\\n':\n",
        "                break\n",
        "        spam.append(lines)        \n"
      ],
      "execution_count": 0,
      "outputs": []
    },
    {
      "metadata": {
        "id": "RYogfAzHvsHK",
        "colab_type": "text"
      },
      "cell_type": "markdown",
      "source": [
        "### Eliminando etiquetas HTML\n",
        "Para eliminar etiquetas html se utiliza el modulo de expresiones regulares (re)."
      ]
    },
    {
      "metadata": {
        "id": "pUZ79EI-vq_B",
        "colab_type": "code",
        "colab": {}
      },
      "cell_type": "code",
      "source": [
        "tag = re.compile(r'<[^>]+>')\n",
        "url = re.compile(r'http[s]?://(?:[a-zA-Z]|[0-9]|[$-_@.&+]|[!*\\(\\),]|(?:%[0-9a-fA-F][0-9a-fA-F]))+')\n",
        "email = re.compile(r'\\S*@\\S*\\s?')"
      ],
      "execution_count": 0,
      "outputs": []
    },
    {
      "metadata": {
        "id": "oNg_HuCAwHY3",
        "colab_type": "code",
        "colab": {}
      },
      "cell_type": "code",
      "source": [
        "for i, file in enumerate(ham):\n",
        "    text = ''.join(file)\n",
        "    \n",
        "    text = re.sub(tag,'', text)\n",
        "    text = re.sub(url,'', text)\n",
        "    text = re.sub(email,'', text)\n",
        "    \n",
        "    text = text.split('\\n')\n",
        "    ham[i] = text"
      ],
      "execution_count": 0,
      "outputs": []
    },
    {
      "metadata": {
        "id": "xQGnG7wzw5ss",
        "colab_type": "code",
        "outputId": "a212cb29-b54f-4e48-e44b-bbeb455a9052",
        "colab": {
          "base_uri": "https://localhost:8080/",
          "height": 969
        }
      },
      "cell_type": "code",
      "source": [
        "ham[0]"
      ],
      "execution_count": 13,
      "outputs": [
        {
          "output_type": "execute_result",
          "data": {
            "text/plain": [
              "['',\n",
              " \"No I was just a little confused because I'm running procmail on a gateway\",\n",
              " 'and sits between the external sendmail box and internal exchange bridgehead',\n",
              " \"server.  So there isn't any delivery to the local system.\",\n",
              " '',\n",
              " \"The only email it gets is inbound at the moment and we're looking to get rid\",\n",
              " 'of complication and go back to two boxes.  I did a test which looked like',\n",
              " 'you guys are right about procmail, but testing is very limited due to the',\n",
              " \"config I currently have.  It's just confusing when set up as a gateway.\",\n",
              " '',\n",
              " '-Jason',\n",
              " '',\n",
              " '-----Original Message-----',\n",
              " 'From: Stephane Lentz Sent: Monday, September 23, 2002 2:50 PM',\n",
              " 'To: Subject: Re: [SAtalk] separate inbound and outbound',\n",
              " '',\n",
              " '',\n",
              " 'On Mon, Sep 23, 2002 at 02:26:34PM -0700, Jason Qualkenbush wrote:',\n",
              " '> ',\n",
              " '> Is there is way to separate inbound and outbound email so that I only',\n",
              " 'check',\n",
              " '> for spam on inbound mail and ignore the outbound?',\n",
              " '> ',\n",
              " \"> I'm using Sendmail and running procmail on the gateway to call\",\n",
              " 'spamassassin.',\n",
              " '> I know it more of a sendmail question, but my google searches have only',\n",
              " '> turned up people trying to log all inbound and outbound email.',\n",
              " '> ',\n",
              " \"Using procmail, SpamAssassin doesn't get called for outgoing email\",\n",
              " '(messages sent to other machines). ',\n",
              " 'Procmail=Local Delivery Agent => inbound traffic to LOCAL machine.',\n",
              " '',\n",
              " 'SL/',\n",
              " '---',\n",
              " 'Stephane Lentz / Alcanet International - Internet Services',\n",
              " '',\n",
              " '',\n",
              " '-------------------------------------------------------',\n",
              " 'This sf.net email is sponsored by:ThinkGeek',\n",
              " 'Welcome to geek heaven.',\n",
              " '',\n",
              " '_______________________________________________',\n",
              " 'Spamassassin-talk mailing list',\n",
              " '',\n",
              " '',\n",
              " '',\n",
              " '-------------------------------------------------------',\n",
              " 'This sf.net email is sponsored by:ThinkGeek',\n",
              " 'Welcome to geek heaven.',\n",
              " '',\n",
              " '_______________________________________________',\n",
              " 'Spamassassin-talk mailing list',\n",
              " '',\n",
              " '',\n",
              " '',\n",
              " '']"
            ]
          },
          "metadata": {
            "tags": []
          },
          "execution_count": 13
        }
      ]
    },
    {
      "metadata": {
        "id": "5K31EKdswXCc",
        "colab_type": "code",
        "colab": {}
      },
      "cell_type": "code",
      "source": [
        "for i, file in enumerate(spam):\n",
        "    text = ''.join(file)\n",
        "    \n",
        "    text = re.sub(tag, '', text)\n",
        "    text = re.sub(url, '', text)\n",
        "    text = re.sub(email, '', text)\n",
        "    \n",
        "    text = text.split('\\n')\n",
        "    spam[i] = text\n",
        "    "
      ],
      "execution_count": 0,
      "outputs": []
    },
    {
      "metadata": {
        "id": "nfKmdx4pxBCX",
        "colab_type": "code",
        "outputId": "fb850135-f531-4ec4-e210-eada794a1fa0",
        "colab": {
          "base_uri": "https://localhost:8080/",
          "height": 1411
        }
      },
      "cell_type": "code",
      "source": [
        "spam[0]"
      ],
      "execution_count": 15,
      "outputs": [
        {
          "output_type": "execute_result",
          "data": {
            "text/plain": [
              "['',\n",
              " '',\n",
              " '',\n",
              " '',\n",
              " '',\n",
              " '',\n",
              " '  ',\n",
              " '  ',\n",
              " '    ',\n",
              " '      ',\n",
              " '    ',\n",
              " '  ',\n",
              " '    ',\n",
              " '      ',\n",
              " '    ',\n",
              " 'Save up to 70% on Life Insurance.',\n",
              " 'Why Spend More Than You Have To?',\n",
              " '',\n",
              " 'Life Quote Savings',\n",
              " '',\n",
              " '',\n",
              " '',\n",
              " '',\n",
              " '',\n",
              " '',\n",
              " '  ',\n",
              " '',\n",
              " '  ',\n",
              " '  ',\n",
              " '    Ensurin=',\n",
              " 'g your ',\n",
              " \"      family's financial security is very important. Life Quote Savings ma=\",\n",
              " 'kes ',\n",
              " '      buying life insurance simple and affordable. We Provide FREE Access =',\n",
              " 'to The ',\n",
              " '      Very Best Companies and The Lowest Rates.',\n",
              " '  ',\n",
              " '    ',\n",
              " '      ',\n",
              " '        ',\n",
              " '        ',\n",
              " '          Life Quote Savings is FAST, EAS=',\n",
              " 'Y and ',\n",
              " '            SAVES you money! Let us help you get started with the best val=',\n",
              " 'ues in ',\n",
              " '            the country on new coverage. You can SAVE hundreds or even tho=',\n",
              " 'usands ',\n",
              " '            of dollars by requesting a FREE quote from Lifequote Savings. =',\n",
              " 'Our ',\n",
              " '            service will take you less than 5 minutes to complete. Shop an=',\n",
              " 'd ',\n",
              " '            compare. SAVE up to 70% on all types of Life insurance! ',\n",
              " '',\n",
              " '        ',\n",
              " '          ',\n",
              " '            Click Here For Your=',\n",
              " ' ',\n",
              " '            Free Quote!',\n",
              " '          ',\n",
              " \"          Protecting your family is the best investment you'll eve=\",\n",
              " 'r ',\n",
              " '          make!',\n",
              " '        ',\n",
              " '        ',\n",
              " '      ',\n",
              " '      ',\n",
              " '      ',\n",
              " '      ',\n",
              " '      ',\n",
              " '      ',\n",
              " '      If you are in receipt of this=',\n",
              " ' email ',\n",
              " '      in error and/or wish to be removed from our list, PLEASE CLICK HERE AND TYPE =',\n",
              " 'REMOVE. If you ',\n",
              " '      reside in any state which prohibits e-mail solicitations for insuran=',\n",
              " 'ce, ',\n",
              " '      please disregard this ',\n",
              " '      email.',\n",
              " '',\n",
              " '',\n",
              " '',\n",
              " '']"
            ]
          },
          "metadata": {
            "tags": []
          },
          "execution_count": 15
        }
      ]
    },
    {
      "metadata": {
        "id": "E-_hUGa6xOJa",
        "colab_type": "text"
      },
      "cell_type": "markdown",
      "source": [
        "### Eliminar espacios y lineas vacias al inicio y al final del mensaje"
      ]
    },
    {
      "metadata": {
        "id": "5oLwEhNZxJqy",
        "colab_type": "code",
        "colab": {}
      },
      "cell_type": "code",
      "source": [
        "for i, file in enumerate(ham):\n",
        "    temp = []\n",
        "    for line in file:\n",
        "        line = line.strip()\n",
        "        if line:\n",
        "            temp.append(line)\n",
        "    ham[i] = temp\n",
        "    "
      ],
      "execution_count": 0,
      "outputs": []
    },
    {
      "metadata": {
        "id": "-JwiIgo_x-3y",
        "colab_type": "code",
        "colab": {
          "base_uri": "https://localhost:8080/",
          "height": 1241
        },
        "outputId": "1f21ebc5-7ea0-402a-ff39-024b385b7645"
      },
      "cell_type": "code",
      "source": [
        "ham[1]"
      ],
      "execution_count": 17,
      "outputs": [
        {
          "output_type": "execute_result",
          "data": {
            "text/plain": [
              "[\"This is just an semi-educated guess - if I'm wrong, someone please correct\",\n",
              " 'me!',\n",
              " \"Spamd setuid's to the user running spamc. Since you're calling spamc from a\",\n",
              " \"global procmailrc file, it's being run as root (most likely). If called as\",\n",
              " \"root, spamd won't open user_prefs files.\",\n",
              " '>>From the spamc man page:',\n",
              " '-u username',\n",
              " 'This argument has been semi-obsoleted.  To have spamd use',\n",
              " 'per-user-config files, run spamc as the user whose config',\n",
              " \"files spamd should load.  If you're running spamc as some\",\n",
              " 'other user though (eg. root, mail, nobody, cyrus, etc.)',\n",
              " 'then you can still use this flag.',\n",
              " 'The solution is to set DROPPRIVS=yes in /etc/procmailrc, just before running',\n",
              " 'spamc. From the procmailrc man page:',\n",
              " \"DROPPRIVS   If set to `yes' procmail will drop all privileges\",\n",
              " 'it might have had (suid or sgid).  This  is  only',\n",
              " 'useful  if  you  want  to guarantee that the bottom',\n",
              " 'half of the /etc/procmailrc file is executed on',\n",
              " 'behalf of the recipient.',\n",
              " \"I hope that helps, and I also hope it's right!\",\n",
              " 'St-',\n",
              " '| -----Original Message-----',\n",
              " '| From: | Behalf Of',\n",
              " '| Cheryl L. Southard',\n",
              " '| Sent: Tuesday, September 24, 2002 2:28 PM',\n",
              " '| To: | Subject: [SAtalk] user_prefs ignored',\n",
              " '|',\n",
              " '|',\n",
              " '| Hi All,',\n",
              " '|',\n",
              " '| I am running SpamAssassin 2.41 with procmail as my local delivery agent',\n",
              " '| with sendmail.  I use spamc/spamd so that it runs site-wide from',\n",
              " '| /etc/procmailrc.',\n",
              " '|',\n",
              " '| spamd is run as root with the flags \"-d -a -c\", and spamc isn\\'t run with',\n",
              " '| any flags.',\n",
              " '|',\n",
              " '| When I was testing the program, I deployed spamc from my personal',\n",
              " '| ~/.procmailrc file, my ~/.spamassassin/user_prefs file was read each time.',\n",
              " '| I can see this because I have a non-default \"required_hits\" value which',\n",
              " '| gets reported in every e-mail on the \"X-Spam-Status\" line.',\n",
              " '|',\n",
              " '| Now that I run spamc from the global /etc/procmailrc file, my',\n",
              " '| ~/.spamassassin/user_prefs file is no longer being read or processed from',\n",
              " '| e-mails from outside computers.  The \"required_hits\" value gets set back',\n",
              " '| to the one in /etc/mail/spamassassin/local.cf.  However, if I send local',\n",
              " '| e-mail, my user_prefs file is read and processed correctly.',\n",
              " '|',\n",
              " '| Does anyone know how to fix this problem?  if this is a spamassassin or',\n",
              " '| procmail bug?',\n",
              " '|',\n",
              " '| Thanks,',\n",
              " '|',\n",
              " '| Cheryl',\n",
              " '|',\n",
              " '| --',\n",
              " '| Cheryl Southard',\n",
              " '| |',\n",
              " '|',\n",
              " '| -------------------------------------------------------',\n",
              " '| This sf.net email is sponsored by:ThinkGeek',\n",
              " '| Welcome to geek heaven.',\n",
              " '|',\n",
              " '| _______________________________________________',\n",
              " '| Spamassassin-talk mailing list',\n",
              " '| |',\n",
              " '|',\n",
              " '-------------------------------------------------------',\n",
              " 'This sf.net email is sponsored by:ThinkGeek',\n",
              " 'Welcome to geek heaven.',\n",
              " '_______________________________________________',\n",
              " 'Spamassassin-talk mailing list']"
            ]
          },
          "metadata": {
            "tags": []
          },
          "execution_count": 17
        }
      ]
    },
    {
      "metadata": {
        "id": "6OaXoJkaxrlb",
        "colab_type": "code",
        "colab": {}
      },
      "cell_type": "code",
      "source": [
        "for i, file in enumerate(spam):\n",
        "    temp = []\n",
        "    for line in file:\n",
        "        line = line.strip()\n",
        "        if line:\n",
        "            temp.append(line)\n",
        "    spam[i] = temp"
      ],
      "execution_count": 0,
      "outputs": []
    },
    {
      "metadata": {
        "id": "SSDDm9jXyFJs",
        "colab_type": "code",
        "colab": {
          "base_uri": "https://localhost:8080/",
          "height": 595
        },
        "outputId": "abc7b31b-f76f-4b23-cd44-a3492eb9685f"
      },
      "cell_type": "code",
      "source": [
        "spam[0]"
      ],
      "execution_count": 19,
      "outputs": [
        {
          "output_type": "execute_result",
          "data": {
            "text/plain": [
              "['Save up to 70% on Life Insurance.',\n",
              " 'Why Spend More Than You Have To?',\n",
              " 'Life Quote Savings',\n",
              " 'Ensurin=',\n",
              " 'g your',\n",
              " \"family's financial security is very important. Life Quote Savings ma=\",\n",
              " 'kes',\n",
              " 'buying life insurance simple and affordable. We Provide FREE Access =',\n",
              " 'to The',\n",
              " 'Very Best Companies and The Lowest Rates.',\n",
              " 'Life Quote Savings is FAST, EAS=',\n",
              " 'Y and',\n",
              " 'SAVES you money! Let us help you get started with the best val=',\n",
              " 'ues in',\n",
              " 'the country on new coverage. You can SAVE hundreds or even tho=',\n",
              " 'usands',\n",
              " 'of dollars by requesting a FREE quote from Lifequote Savings. =',\n",
              " 'Our',\n",
              " 'service will take you less than 5 minutes to complete. Shop an=',\n",
              " 'd',\n",
              " 'compare. SAVE up to 70% on all types of Life insurance!',\n",
              " 'Click Here For Your=',\n",
              " 'Free Quote!',\n",
              " \"Protecting your family is the best investment you'll eve=\",\n",
              " 'r',\n",
              " 'make!',\n",
              " 'If you are in receipt of this=',\n",
              " 'email',\n",
              " 'in error and/or wish to be removed from our list, PLEASE CLICK HERE AND TYPE =',\n",
              " 'REMOVE. If you',\n",
              " 'reside in any state which prohibits e-mail solicitations for insuran=',\n",
              " 'ce,',\n",
              " 'please disregard this',\n",
              " 'email.']"
            ]
          },
          "metadata": {
            "tags": []
          },
          "execution_count": 19
        }
      ]
    },
    {
      "metadata": {
        "id": "Yap7_qMhmHg2",
        "colab_type": "text"
      },
      "cell_type": "markdown",
      "source": [
        "### Eliminar pares, números y simbolos"
      ]
    },
    {
      "metadata": {
        "id": "vqkxge4gwaNp",
        "colab_type": "text"
      },
      "cell_type": "markdown",
      "source": [
        "Pares clave:valor"
      ]
    },
    {
      "metadata": {
        "id": "IW5eoHZ3yKeF",
        "colab_type": "code",
        "colab": {}
      },
      "cell_type": "code",
      "source": [
        "values = re.compile(r'([a-zA-Z]|[0-9]|[-_.&+])+:')\n",
        "\n",
        "for i, file in enumerate(ham):\n",
        "    temp = []\n",
        "    for line in file:\n",
        "        if not re.match(values, line):\n",
        "            temp.append(line)\n",
        "    ham[i] = temp\n",
        "    \n",
        "for i, file in enumerate(spam):\n",
        "    temp = []\n",
        "    for line in file:\n",
        "        if not re.match(values, line):\n",
        "            temp.append(line)\n",
        "    spam[i] = temp"
      ],
      "execution_count": 0,
      "outputs": []
    },
    {
      "metadata": {
        "id": "RY5u3F0QwWhy",
        "colab_type": "text"
      },
      "cell_type": "markdown",
      "source": [
        "Eliminado de simbolos"
      ]
    },
    {
      "metadata": {
        "id": "H5JVR8d5mRnq",
        "colab_type": "code",
        "colab": {}
      },
      "cell_type": "code",
      "source": [
        "\n",
        "symbols = re.compile(r'[-_!¡#$%&\\/\\¿?\"\\'<=>,;:\\[\\]\\(\\)\\\\\\+\\.\\}\\{~\\`¨\\^\\|°@\\+*]+')\n",
        "\n",
        "for i, file in enumerate(ham):\n",
        "    temp = ' '.join(file)\n",
        "    temp = re.sub(symbols, ' ', temp)\n",
        "    ham[i] = temp\n",
        "    \n",
        "for i, file in enumerate(spam):\n",
        "    temp = ' '.join(file)\n",
        "    temp = re.sub(symbols, ' ', temp)\n",
        "    spam[i] = temp"
      ],
      "execution_count": 0,
      "outputs": []
    },
    {
      "metadata": {
        "id": "5h7pxIt-wS2T",
        "colab_type": "text"
      },
      "cell_type": "markdown",
      "source": [
        "Eliminando numeros"
      ]
    },
    {
      "metadata": {
        "id": "n5diH20CmZ7z",
        "colab_type": "code",
        "colab": {}
      },
      "cell_type": "code",
      "source": [
        "\n",
        "numbers = str.maketrans('', '', digits)\n",
        "\n",
        "ham = [file.translate(numbers) for file in ham]\n",
        "spam = [file.translate(numbers) for file in spam]"
      ],
      "execution_count": 0,
      "outputs": []
    },
    {
      "metadata": {
        "id": "qRbsxuLpoyfQ",
        "colab_type": "text"
      },
      "cell_type": "markdown",
      "source": [
        "### Pasar a minúsculas"
      ]
    },
    {
      "metadata": {
        "id": "D51Ep0Z4mjY9",
        "colab_type": "code",
        "colab": {}
      },
      "cell_type": "code",
      "source": [
        "ham_minus = [file.lower() for file in ham]\n",
        "spam_minus = [file.lower() for file in spam]"
      ],
      "execution_count": 0,
      "outputs": []
    },
    {
      "metadata": {
        "id": "hRu0JoOupBOr",
        "colab_type": "code",
        "colab": {
          "base_uri": "https://localhost:8080/",
          "height": 54
        },
        "outputId": "c1cead5f-7e5f-4f12-f0ec-7a24d771c992"
      },
      "cell_type": "code",
      "source": [
        "ham_minus[0]"
      ],
      "execution_count": 31,
      "outputs": [
        {
          "output_type": "execute_result",
          "data": {
            "text/plain": [
              "'no i was just a little confused because i m running procmail on a gateway and sits between the external sendmail box and internal exchange bridgehead server   so there isn t any delivery to the local system  the only email it gets is inbound at the moment and we re looking to get rid of complication and go back to two boxes   i did a test which looked like you guys are right about procmail  but testing is very limited due to the config i currently have   it s just confusing when set up as a gateway   jason  original message  on mon  sep    at   pm    jason qualkenbush wrote      is there is way to separate inbound and outbound email so that i only check   for spam on inbound mail and ignore the outbound      i m using sendmail and running procmail on the gateway to call spamassassin    i know it more of a sendmail question  but my google searches have only   turned up people trying to log all inbound and outbound email    using procmail  spamassassin doesn t get called for outgoing email  messages sent to other machines  procmail local delivery agent   inbound traffic to local machine  sl    stephane lentz   alcanet international   internet services   this sf net email is sponsored by thinkgeek welcome to geek heaven    spamassassin talk mailing list   this sf net email is sponsored by thinkgeek welcome to geek heaven    spamassassin talk mailing list'"
            ]
          },
          "metadata": {
            "tags": []
          },
          "execution_count": 31
        }
      ]
    },
    {
      "metadata": {
        "id": "7VRyZWPPpCaF",
        "colab_type": "code",
        "colab": {
          "base_uri": "https://localhost:8080/",
          "height": 54
        },
        "outputId": "866e0989-7d09-4fdd-b4ee-bc1556d2bb07"
      },
      "cell_type": "code",
      "source": [
        "spam_minus[0]"
      ],
      "execution_count": 32,
      "outputs": [
        {
          "output_type": "execute_result",
          "data": {
            "text/plain": [
              "'save up to   on life insurance  why spend more than you have to  life quote savings ensurin  g your family s financial security is very important  life quote savings ma  kes buying life insurance simple and affordable  we provide free access   to the very best companies and the lowest rates  life quote savings is fast  eas  y and saves you money  let us help you get started with the best val  ues in the country on new coverage  you can save hundreds or even tho  usands of dollars by requesting a free quote from lifequote savings    our service will take you less than  minutes to complete  shop an  d compare  save up to   on all types of life insurance  click here for your  free quote  protecting your family is the best investment you ll eve  r make  if you are in receipt of this  email in error and or wish to be removed from our list  please click here and type   remove  if you reside in any state which prohibits e mail solicitations for insuran  ce  please disregard this email '"
            ]
          },
          "metadata": {
            "tags": []
          },
          "execution_count": 32
        }
      ]
    },
    {
      "metadata": {
        "id": "cTyVkDpKpknz",
        "colab_type": "text"
      },
      "cell_type": "markdown",
      "source": [
        "### Transformando texto en Tokens"
      ]
    },
    {
      "metadata": {
        "id": "skCOHSmyrTFQ",
        "colab_type": "text"
      },
      "cell_type": "markdown",
      "source": [
        "Tokenizers divide strings into lists of substrings. For example, tokenizers can be used to find the words and punctuation in a string:\n"
      ]
    },
    {
      "metadata": {
        "id": "8GsdT57erZl_",
        "colab_type": "code",
        "colab": {}
      },
      "cell_type": "code",
      "source": [
        "s = '''Good muffins cost $3.88\\nin New York.  Please buy me... two of them.\\n\\nThanks.'''\n",
        "word_tokenize(s)\n",
        "['Good', 'muffins', 'cost', '$', '3.88', 'in', 'New', 'York', '.','Please', 'buy', 'me', 'two', 'of', 'them', '.', 'Thanks', '.']"
      ],
      "execution_count": 0,
      "outputs": []
    },
    {
      "metadata": {
        "id": "lfURuJuZpIc4",
        "colab_type": "code",
        "colab": {}
      },
      "cell_type": "code",
      "source": [
        "ham_token = [word_tokenize(file) for file in ham_minus]\n",
        "spam_token = [word_tokenize(file) for file in spam_minus]"
      ],
      "execution_count": 0,
      "outputs": []
    },
    {
      "metadata": {
        "id": "sz4ZmzI6rrXP",
        "colab_type": "code",
        "colab": {}
      },
      "cell_type": "code",
      "source": [
        "ham_token[0]"
      ],
      "execution_count": 0,
      "outputs": []
    },
    {
      "metadata": {
        "id": "sLiw-mzArt4v",
        "colab_type": "code",
        "colab": {}
      },
      "cell_type": "code",
      "source": [
        "spam_token[0]"
      ],
      "execution_count": 0,
      "outputs": []
    },
    {
      "metadata": {
        "id": "7x5ycv5htYWl",
        "colab_type": "text"
      },
      "cell_type": "markdown",
      "source": [
        "The isalpha() methods returns “True” if all characters in the string are alphabets, Otherwise, It returns “False”."
      ]
    },
    {
      "metadata": {
        "id": "UEeiRlmxseY0",
        "colab_type": "code",
        "colab": {}
      },
      "cell_type": "code",
      "source": [
        "for i, file in enumerate(ham_token):\n",
        "    ham_token[i] = [token for token in file if token.isalpha()]\n",
        "    \n",
        "for i, file in enumerate(spam_token):\n",
        "    spam_token[i] = [token for token in file if token.isalpha()]"
      ],
      "execution_count": 0,
      "outputs": []
    },
    {
      "metadata": {
        "id": "_U8PhTFCuZQ4",
        "colab_type": "text"
      },
      "cell_type": "markdown",
      "source": [
        "### Eliminando acentos, tildes, stopwords y conjugaciones"
      ]
    },
    {
      "metadata": {
        "id": "z8qHNgvuwIEe",
        "colab_type": "text"
      },
      "cell_type": "markdown",
      "source": [
        "Eliminado acentos y tildes"
      ]
    },
    {
      "metadata": {
        "id": "2qn4BluIubt5",
        "colab_type": "code",
        "colab": {}
      },
      "cell_type": "code",
      "source": [
        "for i, file in enumerate(ham_token):\n",
        "    ham_token[i] = [unidecode(token) for token in file]\n",
        "    \n",
        "for i, file in enumerate(spam_token):\n",
        "    spam_token[i] = [unidecode(token) for token in file]"
      ],
      "execution_count": 0,
      "outputs": []
    },
    {
      "metadata": {
        "id": "brCwWMH5wKg_",
        "colab_type": "text"
      },
      "cell_type": "markdown",
      "source": [
        "Text may contain stop words like **‘the’, ‘is’, ‘are’.** Stop words can be filtered from the text to be processed"
      ]
    },
    {
      "metadata": {
        "id": "UrbBR7d5u7xJ",
        "colab_type": "code",
        "colab": {}
      },
      "cell_type": "code",
      "source": [
        "stop_words = set(stopwords.words('english'))"
      ],
      "execution_count": 0,
      "outputs": []
    },
    {
      "metadata": {
        "id": "azqM14xHvljT",
        "colab_type": "code",
        "colab": {}
      },
      "cell_type": "code",
      "source": [
        "for i, file in enumerate(ham_token):\n",
        "    ham_token[i] = [token for token in file if not token in stop_words]\n",
        "    \n",
        "for i, file in enumerate(spam_token):\n",
        "    spam_token[i] = [token for token in file if not token in stop_words]"
      ],
      "execution_count": 0,
      "outputs": []
    },
    {
      "metadata": {
        "id": "7H4pXlCyv3c0",
        "colab_type": "code",
        "colab": {}
      },
      "cell_type": "code",
      "source": [
        "ham_token[i]"
      ],
      "execution_count": 0,
      "outputs": []
    },
    {
      "metadata": {
        "id": "H-F8kKywv8WU",
        "colab_type": "code",
        "colab": {}
      },
      "cell_type": "code",
      "source": [
        "spam_token[0]"
      ],
      "execution_count": 0,
      "outputs": []
    },
    {
      "metadata": {
        "id": "BZ07ER5Qw9aH",
        "colab_type": "text"
      },
      "cell_type": "markdown",
      "source": [
        "**Eliminado conjugaciones**\n",
        "\n",
        "Stemmers remove morphological affixes from words, leaving only the word stem."
      ]
    },
    {
      "metadata": {
        "id": "jCgptPoGxuBC",
        "colab_type": "code",
        "colab": {}
      },
      "cell_type": "code",
      "source": [
        "stemmer = PorterStemmer()"
      ],
      "execution_count": 0,
      "outputs": []
    },
    {
      "metadata": {
        "id": "oHM1ZsDyxi6I",
        "colab_type": "code",
        "colab": {
          "base_uri": "https://localhost:8080/",
          "height": 34
        },
        "outputId": "e5af381f-c3dc-405d-9e1d-e1ac389ec38c"
      },
      "cell_type": "code",
      "source": [
        "#Example\n",
        "plurals = ['caresses', 'flies', 'dies', 'mules', 'denied']\n",
        "singles = [stemmer.stem(plural) for plural in plurals]\n",
        "print(singles)"
      ],
      "execution_count": 65,
      "outputs": [
        {
          "output_type": "stream",
          "text": [
            "['caress', 'fli', 'die', 'mule', 'deni']\n"
          ],
          "name": "stdout"
        }
      ]
    },
    {
      "metadata": {
        "id": "jVO9Be0NwDJP",
        "colab_type": "code",
        "colab": {}
      },
      "cell_type": "code",
      "source": [
        "for i, file in enumerate(ham_token):\n",
        "    ham_token[i] = [stemmer.stem(token) for token in file]\n",
        "\n",
        "for i, file in enumerate(spam_token):\n",
        "    spam_token[i] = [stemmer.stem(token) for token in file]\n"
      ],
      "execution_count": 0,
      "outputs": []
    },
    {
      "metadata": {
        "id": "0dOIMy7kyyon",
        "colab_type": "text"
      },
      "cell_type": "markdown",
      "source": [
        "## Bag of Words"
      ]
    },
    {
      "metadata": {
        "id": "gSPlYCuYyx1u",
        "colab_type": "code",
        "colab": {
          "base_uri": "https://localhost:8080/",
          "height": 51
        },
        "outputId": "3788ee86-7019-40cd-eea1-ed007a5a77b1"
      },
      "cell_type": "code",
      "source": [
        "from collections import Counter\n",
        "\n",
        "ham_bag = []\n",
        "for file in ham_token:\n",
        "    ham_bag += file\n",
        "    \n",
        "spam_bag = []\n",
        "for file in spam_token:\n",
        "    spam_bag += file\n",
        "    \n",
        "bag_word = ham_bag + spam_bag   \n",
        "dictionary = Counter(bag_word)\n",
        "\n",
        "print(\"Bag of Words:\",len(bag_word)) \n",
        "print(\"Dictionary:\",len(dictionary))"
      ],
      "execution_count": 107,
      "outputs": [
        {
          "output_type": "stream",
          "text": [
            "Bag of Words: 712626\n",
            "Dictionary: 64895\n"
          ],
          "name": "stdout"
        }
      ]
    },
    {
      "metadata": {
        "id": "NnCoJfKC6uyh",
        "colab_type": "text"
      },
      "cell_type": "markdown",
      "source": [
        "**Frecuencia de aparición**\n",
        "\n",
        "**most_common(n):** Return a list of the n most common elements and their counts from the most common to the least"
      ]
    },
    {
      "metadata": {
        "id": "PCUAV0Hb6ZNg",
        "colab_type": "code",
        "colab": {
          "base_uri": "https://localhost:8080/",
          "height": 54
        },
        "outputId": "edc3c9be-d2fd-4aac-fc71-345b8f4e73f8"
      },
      "cell_type": "code",
      "source": [
        "most_frequence = dictionary.most_common(2500)\n",
        "print(most_frequence)\n"
      ],
      "execution_count": 113,
      "outputs": [
        {
          "output_type": "stream",
          "text": [
            "[('nbsp', 11289), ('e', 8236), ('c', 5804), ('mail', 4433), ('b', 4240), ('email', 3771), ('list', 3669), ('use', 3534), ('get', 3378), ('free', 3135), ('one', 2946), ('time', 2635), ('receiv', 2279), ('make', 2191), ('f', 2169), ('peopl', 2156), ('click', 2154), ('work', 2072), ('new', 2070), ('busi', 2050), ('messag', 2038), ('like', 2029), ('pleas', 2024), ('us', 1938), ('remov', 1904), ('order', 1884), ('address', 1883), ('inform', 1880), ('money', 1766), ('would', 1757), ('want', 1664), ('year', 1641), ('send', 1619), ('compani', 1541), ('need', 1530), ('day', 1430), ('report', 1405), ('also', 1395), ('site', 1395), ('name', 1391), ('program', 1386), ('go', 1382), ('offer', 1368), ('state', 1367), ('servic', 1307), ('market', 1304), ('call', 1278), ('way', 1224), ('look', 1212), ('home', 1209), ('may', 1204), ('internet', 1197), ('first', 1179), ('includ', 1178), ('product', 1177), ('help', 1160), ('world', 1155), ('see', 1136), ('right', 1134), ('even', 1134), ('know', 1117), ('take', 1112), ('find', 1109), ('think', 1053), ('web', 1052), ('system', 1049), ('check', 1008), ('file', 1006), ('govern', 1003), ('could', 997), ('tri', 996), ('mani', 976), ('chang', 971), ('much', 964), ('million', 948), ('start', 947), ('interest', 944), ('say', 942), ('line', 941), ('user', 935), ('person', 934), ('number', 934), ('softwar', 929), ('best', 924), ('wrote', 923), ('rate', 919), ('month', 908), ('form', 901), ('today', 898), ('com', 893), ('link', 893), ('ad', 889), ('net', 886), ('group', 881), ('grant', 878), ('said', 865), ('size', 865), ('good', 864), ('follow', 861), ('life', 855), ('provid', 850), ('credit', 845), ('cd', 841), ('quot', 837), ('price', 829), ('everi', 826), ('problem', 821), ('run', 815), ('u', 812), ('secur', 812), ('spam', 811), ('de', 804), ('phone', 797), ('well', 796), ('come', 789), ('give', 787), ('cfont', 786), ('ffont', 786), ('subject', 776), ('back', 769), ('commun', 758), ('thing', 757), ('n', 756), ('face', 739), ('thank', 738), ('packag', 732), ('r', 730), ('p', 730), ('save', 729), ('nextpart', 728), ('base', 726), ('comput', 722), ('read', 715), ('ca', 715), ('spamassassin', 713), ('rpm', 713), ('part', 712), ('color', 705), ('within', 704), ('avail', 702), ('gener', 701), ('week', 700), ('set', 694), ('custom', 687), ('made', 670), ('write', 667), ('onlin', 666), ('invest', 666), ('card', 665), ('search', 664), ('special', 664), ('bb', 663), ('per', 662), ('sent', 659), ('without', 657), ('x', 655), ('complet', 651), ('wish', 649), ('page', 647), ('two', 645), ('build', 645), ('guarante', 644), ('end', 641), ('repli', 639), ('long', 636), ('real', 634), ('contact', 631), ('current', 630), ('sponsor', 629), ('hour', 627), ('manag', 624), ('develop', 623), ('futur', 622), ('unsubscrib', 619), ('still', 617), ('countri', 616), ('easi', 615), ('differ', 615), ('cost', 613), ('exmh', 612), ('unit', 611), ('nation', 605), ('anyon', 603), ('requir', 601), ('never', 600), ('keep', 596), ('advertis', 595), ('network', 593), ('linux', 593), ('next', 592), ('profession', 591), ('must', 589), ('insur', 582), ('high', 575), ('account', 575), ('ba', 573), ('live', 570), ('place', 570), ('cb', 566), ('last', 566), ('trade', 566), ('opportun', 565), ('old', 563), ('server', 562), ('let', 559), ('legal', 559), ('sinc', 558), ('power', 555), ('pay', 553), ('case', 552), ('realli', 552), ('data', 551), ('success', 550), ('respons', 547), ('code', 547), ('access', 546), ('ac', 545), ('sure', 544), ('increas', 544), ('support', 544), ('result', 541), ('dollar', 533), ('someth', 530), ('great', 529), ('sell', 528), ('l', 526), ('technolog', 526), ('sale', 526), ('put', 525), ('websit', 524), ('better', 521), ('found', 518), ('process', 516), ('instal', 512), ('visit', 512), ('engin', 509), ('sf', 506), ('point', 506), ('show', 504), ('question', 499), ('anoth', 498), ('window', 495), ('issu', 494), ('origin', 490), ('', 490), ('less', 487), ('seem', 481), ('financi', 480), ('news', 480), ('actual', 478), ('total', 475), ('plan', 473), ('bc', 473), ('test', 472), ('type', 470), ('low', 469), ('ever', 468), ('buy', 467), ('top', 465), ('lot', 463), ('american', 461), ('cash', 460), ('idea', 458), ('talk', 457), ('famili', 457), ('mean', 457), ('applic', 456), ('allow', 455), ('fax', 455), ('step', 454), ('purchas', 450), ('word', 449), ('improv', 448), ('fill', 447), ('law', 444), ('age', 444), ('effect', 443), ('perl', 440), ('design', 439), ('>>', 436), ('past', 434), ('simpl', 432), ('ask', 431), ('full', 431), ('etc', 430), ('releas', 430), ('got', 430), ('share', 430), ('polici', 430), ('friend', 429), ('g', 428), ('possibl', 424), ('post', 424), ('tell', 422), ('simpli', 421), ('non', 420), ('move', 420), ('cours', 418), ('incom', 418), ('w', 417), ('ce', 415), ('heaven', 413), ('bf', 413), ('bd', 413), ('act', 412), ('razor', 410), ('mr', 410), ('least', 408), ('instead', 405), ('member', 405), ('someon', 404), ('sourc', 404), ('error', 403), ('thousand', 402), ('request', 402), ('open', 401), ('copi', 401), ('term', 401), ('protect', 401), ('return', 400), ('public', 398), ('ship', 398), ('minut', 397), ('guid', 397), ('might', 396), ('believ', 396), ('learn', 396), ('h', 394), ('ye', 393), ('import', 393), ('feel', 392), ('intern', 390), ('valu', 389), ('fact', 389), ('letter', 389), ('creat', 388), ('text', 385), ('contain', 383), ('happen', 382), ('pm', 379), ('html', 379), ('format', 379), ('notic', 378), ('version', 375), ('add', 374), ('reason', 371), ('experi', 371), ('instruct', 371), ('anyth', 369), ('center', 369), ('client', 368), ('assist', 367), ('limit', 366), ('job', 366), ('risk', 366), ('industri', 366), ('amp', 364), ('darial', 364), ('abl', 363), ('date', 362), ('becom', 362), ('lead', 362), ('sep', 361), ('fb', 359), ('littl', 358), ('accept', 358), ('continu', 358), ('bill', 358), ('loan', 357), ('around', 354), ('claim', 352), ('book', 352), ('probabl', 351), ('recent', 351), ('second', 351), ('bank', 351), ('alway', 349), ('regard', 349), ('lose', 348), ('select', 347), ('howev', 346), ('alreadi', 346), ('els', 345), ('exist', 345), ('immedi', 345), ('oper', 344), ('databas', 344), ('train', 344), ('care', 344), ('stop', 344), ('local', 343), ('fund', 343), ('secret', 342), ('info', 342), ('three', 341), ('cc', 340), ('target', 339), ('box', 337), ('k', 337), ('j', 335), ('featur', 335), ('sign', 334), ('agent', 333), ('detail', 333), ('hundr', 333), ('control', 333), ('begin', 331), ('level', 331), ('direct', 330), ('opt', 329), ('record', 327), ('presid', 327), ('noth', 326), ('offic', 326), ('welcom', 325), ('done', 325), ('multi', 325), ('deal', 323), ('forc', 322), ('natur', 322), ('america', 322), ('signatur', 321), ('tool', 321), ('fa', 321), ('subscrib', 320), ('plu', 320), ('turn', 319), ('updat', 319), ('decid', 319), ('everyth', 318), ('present', 317), ('rememb', 317), ('small', 317), ('big', 316), ('v', 316), ('exampl', 316), ('area', 316), ('maintain', 316), ('folder', 315), ('method', 314), ('note', 314), ('partner', 313), ('cf', 312), ('seen', 312), ('forward', 312), ('answer', 312), ('benefit', 312), ('un', 311), ('appli', 310), ('drive', 309), ('aa', 309), ('via', 308), ('war', 308), ('download', 307), ('fast', 307), ('discuss', 307), ('polit', 307), ('mortgag', 307), ('mime', 306), ('specif', 306), ('charset', 306), ('transact', 306), ('individu', 303), ('absolut', 301), ('island', 301), ('promot', 300), ('fix', 298), ('other', 297), ('kind', 294), ('directori', 294), ('document', 294), ('dvd', 294), ('join', 294), ('earn', 294), ('key', 293), ('larg', 292), ('hand', 292), ('stuff', 292), ('major', 292), ('wait', 292), ('bodi', 292), ('though', 291), ('yahoo', 291), ('true', 291), ('understand', 290), ('sever', 290), ('grow', 288), ('away', 288), ('tm', 288), ('content', 285), ('co', 284), ('play', 284), ('charg', 282), ('prefer', 281), ('enter', 281), ('corpor', 280), ('matter', 280), ('th', 280), ('log', 278), ('associ', 278), ('profit', 278), ('rule', 277), ('broadcast', 277), ('septemb', 276), ('easili', 275), ('subscript', 275), ('posit', 274), ('geek', 273), ('kernel', 273), ('en', 273), ('www', 272), ('feder', 272), ('parti', 271), ('love', 271), ('meet', 271), ('mind', 270), ('discov', 270), ('collect', 268), ('templ', 268), ('header', 267), ('enough', 267), ('amount', 267), ('connect', 267), ('stori', 267), ('foreign', 267), ('hope', 265), ('research', 265), ('thought', 265), ('domain', 265), ('author', 265), ('weight', 265), ('mayb', 264), ('paid', 264), ('entir', 263), ('contract', 263), ('qualiti', 263), ('addit', 261), ('hard', 261), ('bit', 260), ('reach', 260), ('expect', 260), ('activ', 259), ('cp', 259), ('econom', 258), ('apt', 257), ('either', 256), ('potenti', 255), ('inc', 255), ('pgp', 254), ('tax', 253), ('commiss', 253), ('women', 252), ('regist', 251), ('yet', 250), ('global', 249), ('bush', 249), ('red', 249), ('human', 249), ('toner', 249), ('relat', 248), ('submit', 248), ('involv', 248), ('project', 247), ('happi', 246), ('view', 245), ('privat', 245), ('thinkgeek', 244), ('standard', 244), ('caus', 243), ('thu', 243), ('oblig', 243), ('debt', 243), ('hit', 240), ('fp', 240), ('far', 240), ('singl', 240), ('newslett', 240), ('dear', 240), ('bonu', 240), ('bad', 238), ('sound', 238), ('often', 238), ('payment', 237), ('hous', 237), ('xml', 236), ('la', 236), ('refer', 235), ('ab', 235), ('option', 234), ('effort', 234), ('consid', 234), ('ff', 234), ('stock', 234), ('cartridg', 234), ('upon', 232), ('given', 231), ('win', 231), ('citi', 230), ('publish', 230), ('pack', 229), ('whether', 228), ('bulk', 226), ('men', 226), ('solut', 225), ('smoke', 225), ('freedom', 225), ('appear', 224), ('copyright', 224), ('health', 224), ('qualifi', 224), ('enenkio', 224), ('later', 223), ('final', 222), ('univers', 222), ('properti', 221), ('almost', 220), ('transfer', 220), ('wrong', 219), ('perform', 219), ('matthia', 219), ('pass', 218), ('ago', 218), ('print', 218), ('man', 217), ('capit', 217), ('rather', 216), ('load', 215), ('delet', 215), ('cell', 215), ('game', 215), ('everyon', 214), ('whole', 214), ('track', 214), ('propos', 214), ('irish', 214), ('automat', 213), ('statement', 213), ('resourc', 211), ('fee', 211), ('usa', 211), ('tablet', 211), ('store', 210), ('close', 210), ('daili', 210), ('le', 210), ('width', 210), ('billion', 210), ('membership', 210), ('oz', 210), ('imag', 209), ('figur', 209), ('locat', 209), ('q', 209), ('sight', 209), ('da', 209), ('five', 208), ('car', 208), ('soon', 208), ('action', 207), ('articl', 207), ('strategi', 207), ('practic', 206), ('fail', 206), ('depend', 206), ('organ', 206), ('ham', 206), ('choic', 206), ('pc', 205), ('extrem', 205), ('loss', 205), ('hat', 205), ('cut', 204), ('comment', 204), ('quit', 204), ('independ', 204), ('z', 204), ('consult', 204), ('safe', 204), ('suggest', 203), ('half', 202), ('execut', 202), ('due', 201), ('respect', 201), ('sort', 201), ('late', 201), ('botan', 201), ('watch', 200), ('tire', 200), ('compar', 200), ('wonder', 200), ('respond', 200), ('short', 199), ('attack', 199), ('educ', 198), ('clean', 198), ('aug', 198), ('readi', 198), ('expens', 198), ('produc', 198), ('growth', 198), ('street', 198), ('af', 198), ('offici', 197), ('mark', 197), ('remain', 197), ('confidenti', 197), ('region', 197), ('longer', 196), ('recommend', 196), ('ed', 196), ('press', 196), ('media', 196), ('trust', 195), ('platform', 195), ('cbr', 195), ('machin', 194), ('known', 194), ('review', 193), ('tv', 193), ('alsa', 192), ('school', 191), ('suppli', 191), ('distribut', 191), ('along', 191), ('lost', 191), ('approv', 190), ('pick', 189), ('miss', 189), ('lib', 189), ('digit', 189), ('iso', 189), ('handl', 189), ('administr', 189), ('dream', 189), ('root', 188), ('concern', 188), ('averag', 188), ('advantag', 188), ('ok', 187), ('employ', 187), ('enabl', 187), ('hi', 186), ('spend', 186), ('retail', 186), ('kingdom', 186), ('item', 185), ('similar', 185), ('quick', 185), ('came', 185), ('et', 184), ('black', 182), ('went', 182), ('edit', 182), ('male', 182), ('hear', 181), ('sequenc', 181), ('choos', 181), ('atol', 181), ('mass', 180), ('clear', 180), ('interact', 180), ('event', 180), ('field', 180), ('memori', 180), ('paper', 180), ('usr', 179), ('taken', 179), ('reserv', 179), ('histori', 179), ('dagga', 179), ('establish', 178), ('head', 177), ('huge', 177), ('abil', 177), ('materi', 177), ('ae', 177), ('energi', 177), ('deliv', 176), ('marshal', 176), ('agenc', 176), ('aaaaaaaaaaaaaaaaaaaaaaaaaaaaaaaaaaaaaaaaaaaaaaaaaaaaaaaaaaaaaaaaaaaaaaaaaaaa', 176), ('ragga', 176), ('worth', 175), ('intend', 175), ('left', 175), ('dc', 175), ('sex', 175), ('drop', 174), ('exactli', 173), ('third', 173), ('section', 172), ('purpos', 172), ('studi', 172), ('agre', 172), ('nice', 171), ('fals', 171), ('speed', 171), ('valuabl', 171), ('alb', 171), ('combin', 170), ('redhat', 170), ('altern', 170), ('seventh', 170), ('licens', 170), ('insid', 169), ('bring', 169), ('anywher', 169), ('side', 169), ('investig', 168), ('util', 168), ('guy', 167), ('url', 167), ('told', 167), ('enhanc', 167), ('shop', 167), ('seek', 167), ('assum', 166), ('pictur', 166), ('consum', 166), ('medic', 166), ('ea', 166), ('score', 165), ('extra', 165), ('societi', 165), ('investor', 165), ('accord', 164), ('particip', 164), ('cv', 163), ('commerci', 163), ('languag', 163), ('hold', 163), ('premium', 163), ('militari', 163), ('bottl', 162), ('video', 162), ('deathtospamdeathtospamdeathtospam', 162), ('self', 161), ('suit', 161), ('main', 161), ('moment', 160), ('pretti', 160), ('ctd', 160), ('ftd', 160), ('chanc', 159), ('fastest', 159), ('august', 159), ('devic', 159), ('south', 159), ('bar', 159), ('align', 159), ('except', 158), ('period', 158), ('situat', 158), ('john', 158), ('obtain', 157), ('im', 157), ('rest', 157), ('lowest', 157), ('usd', 157), ('leav', 156), ('upgrad', 156), ('normal', 156), ('electron', 156), ('model', 156), ('bug', 155), ('lower', 155), ('china', 155), ('depart', 154), ('command', 153), ('owner', 153), ('prepar', 153), ('fall', 153), ('fine', 152), ('common', 152), ('script', 151), ('uniqu', 151), ('advanc', 151), ('count', 151), ('integr', 151), ('space', 151), ('although', 151), ('goal', 151), ('java', 151), ('regul', 151), ('father', 151), ('ignor', 150), ('four', 150), ('msg', 150), ('indic', 150), ('sexual', 150), ('telephon', 150), ('titl', 149), ('tip', 149), ('judgment', 148), ('announc', 148), ('social', 148), ('privaci', 148), ('replac', 147), ('fulli', 147), ('latest', 147), ('function', 147), ('promis', 147), ('amaz', 147), ('basic', 146), ('necessari', 146), ('die', 146), ('apolog', 146), ('chri', 146), ('configur', 145), ('decis', 145), ('will', 145), ('king', 145), ('movi', 145), ('york', 145), ('reduc', 144), ('across', 144), ('estat', 144), ('team', 144), ('adult', 144), ('herba', 144), ('compil', 143), ('night', 143), ('token', 143), ('economi', 143), ('fd', 143), ('commit', 142), ('togeth', 142), ('anyway', 142), ('font', 142), ('perhap', 142), ('driver', 142), ('refin', 142), ('death', 142), ('ec', 142), ('st', 141), ('express', 141), ('took', 141), ('button', 141), ('heard', 141), ('directli', 140), ('competit', 140), ('enterpris', 140), ('datapow', 140), ('googl', 139), ('confirm', 139), ('osdn', 139), ('san', 139), ('fortun', 139), ('sold', 139), ('monthli', 139), ('class', 139), ('http', 139), ('burn', 139), ('sincer', 139), ('traffic', 138), ('seriou', 138), ('mention', 138), ('enjoy', 138), ('speak', 138), ('firm', 138), ('ensur', 138), ('drug', 138), ('gain', 138), ('white', 137), ('sum', 137), ('six', 137), ('neg', 137), ('brand', 137), ('goe', 137), ('fat', 137), ('$?,', 137), ('bottom', 136), ('cover', 136), ('troubl', 135), ('initi', 135), ('usual', 135), ('rang', 135), ('extend', 135), ('congress', 135), ('cli', 135), ('avoid', 134), ('id', 134), ('robert', 134), ('travel', 134), ('proven', 134), ('equip', 134), ('eb', 134), ('host', 133), ('confid', 133), ('unless', 132), ('imagin', 132), ('knowledg', 132), ('dr', 132), ('court', 132), ('mssauo', 132), ('sender', 131), ('capabl', 131), ('air', 131), ('ventur', 131), ('rh', 131), ('<<', 131), ('exchang', 130), ('sun', 130), ('explain', 130), ('valid', 130), ('elimin', 130), ('scienc', 130), ('skip', 130), ('disk', 130), ('achiev', 130), ('diet', 130), ('lender', 130), ('sa', 129), ('se', 129), ('none', 129), ('worker', 129), ('asset', 129), ('introduc', 128), ('canada', 128), ('guess', 127), ('especi', 127), ('port', 127), ('north', 127), ('demand', 127), ('rom', 127), ('mb', 127), ('profil', 127), ('height', 127), ('exercis', 127), ('easier', 126), ('paragraph', 126), ('quickli', 126), ('desir', 126), ('aid', 126), ('land', 126), ('terror', 126), ('multipl', 125), ('washington', 125), ('wed', 125), ('particular', 125), ('relationship', 125), ('terrorist', 125), ('excit', 124), ('africa', 124), ('exclus', 124), ('pacif', 124), ('tie', 123), ('block', 123), ('sweet', 123), ('annuiti', 123), ('approach', 122), ('worri', 122), ('modul', 122), ('oh', 122), ('stand', 122), ('break', 122), ('style', 122), ('display', 122), ('monday', 122), ('excel', 122), ('mobil', 122), ('oct', 121), ('techniqu', 121), ('sampl', 121), ('variou', 121), ('defens', 121), ('condit', 121), ('peac', 121), ('children', 121), ('wide', 120), ('default', 120), ('wall', 120), ('margin', 120), ('sens', 120), ('resid', 120), ('india', 120), ('mon', 119), ('behalf', 119), ('statu', 119), ('spammer', 119), ('colleg', 119), ('art', 119), ('correct', 118), ('setup', 118), ('filter', 118), ('fork', 118), ('folk', 118), ('attempt', 118), ('pipe', 118), ('repres', 118), ('threat', 118), ('warranti', 118), ('nigeria', 118), ('serv', 117), ('coupl', 117), ('stay', 117), ('dave', 117), ('perfect', 117), ('pain', 117), ('instant', 117), ('cooper', 117), ('capillari', 117), ('implement', 116), ('object', 116), ('forev', 116), ('prevent', 116), ('predict', 116), ('kill', 116), ('photo', 116), ('procmail', 115), ('uk', 115), ('certain', 115), ('fun', 115), ('hardwar', 115), ('lock', 115), ('femal', 115), ('affili', 115), ('gift', 115), ('intro', 115), ('tag', 114), ('tim', 114), ('kid', 114), ('categori', 114), ('leader', 114), ('os', 113), ('unsolicit', 113), ('hello', 113), ('invok', 113), ('earli', 113), ('player', 113), ('toward', 113), ('strong', 113), ('campaign', 113), ('revenu', 113), ('largest', 113), ('suppos', 112), ('extract', 112), ('describ', 112), ('zip', 112), ('dead', 112), ('sensit', 112), ('girl', 112), ('euro', 112), ('deposit', 112), ('pattern', 111), ('deserv', 111), ('manual', 111), ('sometim', 111), ('awar', 111), ('intellig', 111), ('whatev', 111), ('factor', 111), ('director', 111), ('cabl', 111), ('determin', 111), ('assur', 111), ('acquir', 111), ('powel', 111), ('expand', 111), ('solv', 110), ('satellit', 110), ('illeg', 110), ('citizen', 110), ('signific', 109), ('discount', 109), ('unlimit', 109), ('toll', 109), ('saou', 109), ('hermio', 109), ('virtual', 108), ('certainli', 108), ('reader', 108), ('seri', 108), ('browser', 108), ('verifi', 108), ('west', 108), ('weapon', 108), ('auto', 107), ('popular', 107), ('definit', 107), ('match', 107), ('honor', 107), ('gt', 107), ('technic', 107), ('front', 107), ('poor', 107), ('centuri', 107), ('separ', 106), ('opinion', 106), ('sorri', 106), ('background', 106), ('classifi', 106), ('substanti', 106), ('printer', 106), ('procedur', 106), ('expert', 106), ('ebay', 106), ('equival', 106), ('beberg', 106), ('outsid', 105), ('central', 105), ('spec', 105), ('echo', 105), ('built', 105), ('anybodi', 105), ('chief', 105), ('gold', 105), ('octob', 105), ('challeng', 105), ('concentr', 105), ('devel', 104), ('defin', 104), ('screen', 104), ('rich', 104), ('path', 103), ('held', 103), ('faster', 103), ('wife', 103), ('permiss', 103), ('michael', 103), ('ee', 103), ('road', 103), ('music', 103), ('tuesday', 102), ('effici', 102), ('fri', 102), ('fair', 102), ('adam', 102), ('cent', 102), ('higher', 102), ('ten', 102), ('pre', 102), ('seven', 102), ('anim', 102), ('europ', 102), ('emerg', 102), ('worldwid', 102), ('launch', 101), ('near', 101), ('abus', 101), ('whose', 100), ('mailer', 100), ('fit', 100), ('career', 100), ('incred', 100), ('wireless', 100), ('attent', 100), ('tradit', 100), ('conveni', 100), ('img', 99), ('forget', 99), ('jabber', 99), ('advis', 99), ('rel', 99), ('behind', 99), ('teach', 99), ('compet', 99), ('walk', 98), ('sleep', 98), ('cultur', 98), ('lawrenc', 98), ('cbyi', 98), ('modifi', 97), ('european', 97), ('boundari', 97), ('fight', 97), ('ms', 97), ('balanc', 97), ('journal', 97), ('annual', 97), ('democrat', 97), ('iii', 97), ('appreci', 96), ('revers', 96), ('discoveri', 96), ('truth', 96), ('succeed', 96), ('voic', 96), ('clue', 96), ('convers', 96), ('hot', 96), ('super', 96), ('urgent', 96), ('ga', 95), ('financ', 95), ('polic', 95), ('el', 95), ('peni', 95), ('cach', 94), ('lt', 94), ('gari', 94), ('master', 94), ('danger', 94), ('distanc', 94), ('young', 94), ('june', 94), ('muscl', 94), ('rss', 94), ('enemi', 94), ('declar', 94), ('attract', 94), ('deliveri', 93), ('appar', 93), ('regular', 93), ('mm', 93), ('critic', 93), ('measur', 93), ('manufactur', 93), ('previous', 93), ('confer', 93), ('popul', 93), ('index', 93), ('lo', 93), ('wing', 93), ('empir', 93), ('spain', 93), ('laserjet', 93), ('cstrong', 93), ('fstrong', 93), ('verdana', 93), ('sit', 92), ('scan', 92), ('rais', 92), ('william', 92), ('therefor', 92), ('written', 92), ('consolid', 92), ('programm', 92), ('insert', 92), ('agreement', 92), ('juli', 92), ('fl', 92), ('anti', 92), ('plant', 92), ('difficult', 92), ('declin', 92), ('dont', 92), ('wake', 92), ('compat', 91), ('identifi', 91), ('py', 91), ('lifetim', 91), ('california', 91), ('republ', 91), ('french', 91), ('mini', 91), ('unseen', 91), ('kio', 91), ('dial', 90), ('progress', 90), ('fire', 90), ('piec', 90), ('perman', 90), ('greater', 90), ('institut', 90), ('arm', 90), ('speech', 90), ('jame', 90), ('attorney', 90), ('ctr', 90), ('ftr', 90), ('patch', 89), ('switch', 89), ('kept', 89), ('catch', 89), ('mistak', 89), ('evid', 89), ('room', 89), ('former', 89), ('afford', 89), ('franc', 89), ('dan', 88), ('unix', 88), ('reliabl', 88), ('al', 88), ('ultim', 88), ('reg', 88), ('sir', 88), ('percent', 88), ('blood', 88), ('temperatur', 88), ('destruct', 88), ('telecom', 88), ('bonus', 88), ('tabl', 87), ('carri', 87), ('mine', 87), ('interfac', 87), ('hp', 87), ('pop', 87), ('roll', 87), ('doctor', 87), ('civil', 87), ('alli', 87), ('planta', 87), ('larger', 86), ('org', 86), ('isp', 86), ('ident', 86), ('cat', 86), ('god', 86), ('structur', 86), ('middl', 86), ('beat', 86), ('mother', 86), ('prospect', 86), ('PS', 86), ('listen', 86), ('wast', 86), ('broker', 86), ('mlm', 86), ('app', 85), ('ratio', 85), ('encourag', 85), ('construct', 85), ('pull', 85), ('mp', 85), ('patent', 85), ('son', 85), ('searcher', 85), ('comprehens', 85), ('ban', 84), ('alon', 84), ('physic', 84), ('magazin', 84), ('inde', 84), ('water', 84), ('analysi', 84), ('doubt', 84), ('dragon', 84), ('vacat', 84), ('postal', 84), ('argument', 83), ('nobodi', 83), ('surpris', 83), ('david', 83), ('slow', 83), ('cheer', 83), ('storag', 83), ('backup', 83), ('husband', 83), ('vehicl', 83), ('commentari', 83), ('freshrpm', 83), ('visa', 83), ('cdiv', 83), ('fdiv', 83), ('fc', 83), ('db', 82), ('percentag', 82), ('laptop', 82), ('librari', 82), ('basi', 82), ('comfort', 82), ('hotel', 82), ('march', 82), ('coverag', 82), ('hair', 82), ('degre', 82), ('fe', 82), ('murphi', 82), ('biz', 82), ('showcas', 82), ('whitelist', 81), ('knew', 81), ('fresh', 81), ('estim', 81), ('cool', 81), ('pro', 81), ('mile', 81), ('skill', 81), ('among', 81), ('film', 81), ('roman', 81), ('para', 81), ('eneen', 81), ('concept', 80), ('correspond', 80), ('vou', 80), ('extens', 80), ('smart', 80), ('focu', 80), ('greg', 80), ('editor', 80), ('realiz', 80), ('panel', 80), ('histor', 80), ('laser', 80), ('pound', 80), ('herb', 80), ('jigget', 80), ('usag', 79), ('star', 79), ('smtp', 79), ('advic', 79), ('mode', 79), ('disabl', 79), ('df', 79), ('reveal', 79), ('light', 79), ('arriv', 79), ('heart', 79), ('core', 79), ('twenti', 79), ('constitut', 79), ('hettinga', 79), ('fr', 79), ('complianc', 79), ('pgi', 79), ('dn', 78), ('suffer', 78), ('principl', 78), ('defend', 78), ('favor', 78), ('worst', 78), ('strength', 78), ('vs', 78), ('mh', 78), ('interview', 78), ('recipi', 77), ('justin', 77), ('ii', 77), ('varieti', 77), ('tue', 77), ('python', 77), ('entri', 77), ('doubl', 77), ('po', 77), ('highli', 77), ('treat', 77), ('gentl', 77), ('toni', 77), ('decad', 77), ('pocket', 77), ('rebuild', 77), ('herbal', 77), ('stylu', 77), ('flow', 76), ('relev', 76), ('saw', 76), ('senior', 76), ('environ', 76), ('guido', 76), ('contribut', 76), ('motiv', 76), ('boy', 76), ('minimum', 76), ('boss', 76), ('invit', 76), ('tom', 76), ('texa', 76), ('tab', 76), ('boston', 76), ('viagra', 76), ('underwrit', 76), ('hidden', 75), ('proper', 75), ('bu', 75), ('partit', 75), ('peter', 75), ('src', 75), ('instantli', 75), ('monitor', 75), ('ground', 75), ('british', 75), ('prescript', 75), ('draw', 75), ('guidelin', 75), ('domest', 75), ('edg', 75), ('buyer', 75), ('neighbor', 75), ('smoker', 75), ('touch', 74), ('remot', 74), ('liber', 74), ('arial', 74), ('radio', 74), ('spot', 74), ('fli', 74), ('trial', 74), ('resum', 74), ('currenc', 74), ('merchant', 74), ('equiti', 74), ('substanc', 74), ('epson', 74), ('feroc', 74), ('warn', 73), ('ip', 73), ('essenti', 73), ('primari', 73), ('est', 73), ('descript', 73), ('proprietari', 73), ('expir', 73), ('pudg', 73), ('channel', 73), ('wealth', 73), ('staff', 73), ('seminar', 73), ('pour', 73), ('confus', 72), ('spamd', 72), ('strongli', 72), ('favorit', 72), ('attach', 72), ('trick', 72), ('prompt', 72), ('char', 72), ('woman', 72), ('hormon', 72), ('employe', 72), ('earth', 72), ('delay', 72), ('supplement', 72), ('settlement', 72), ('ne', 72), ('corpu', 71), ('occur', 71), ('paul', 71), ('spent', 71), ('recogn', 71), ('eye', 71), ('board', 71), ('iraq', 71), ('protest', 71), ('banner', 71), ('award', 71), ('consist', 71), ('norton', 71), ('poverti', 71), ('*', 71), ('kathmandu', 71), ('dev', 70), ('otherwis', 70), ('stupid', 70), ('tel', 70), ('ticket', 70), ('mac', 70), ('es', 70), ('stream', 70), ('href', 70), ('biggest', 70), ('reduct', 70), ('clearli', 70), ('oil', 70), ('feet', 70), ('role', 70), ('carrier', 70), ('acknowledg', 70), ('blank', 70), ('allianc', 70), ('sponsorship', 70), ('mostli', 69), ('vote', 69), ('thread', 69), ('steve', 69), ('shape', 69), ('truli', 69), ('highest', 69), ('nd', 69), ('auction', 69), ('faith', 69), ('recruit', 69), ('eeasi', 69), ('aphrodisia', 69), ('safeti', 68), ('thursday', 68), ('hire', 68), ('task', 68), ('prohibit', 68), ('becam', 68), ('wa', 68), ('sole', 68), ('entertain', 68), ('lack', 68), ('beauti', 68), ('food', 68), ('chicago', 68), ('gone', 68), ('rd', 68), ('menu', 68), ('wi', 68), ('var', 67), ('instanc', 67), ('permit', 67), ('equal', 67), ('refund', 67), ('england', 67), ('desktop', 67), ('explor', 67), ('promiscu', 67), ('remedi', 67), ('aggress', 67), ('ffff', 67), ('prosaka', 67), ('shall', 66), ('microsoft', 66), ('morn', 66), ('student', 66), ('eat', 66), ('scheme', 66), ('modern', 66), ('park', 66), ('rock', 66), ('repair', 66), ('parent', 66), ('conflict', 66), ('lie', 66), ('entrepreneur', 66), ('summer', 66), ('seed', 66), ('jepson', 66), ('eval', 65), ('resolv', 65), ('jump', 65), ('mainten', 65), ('beyond', 65), ('weekli', 65), ('met', 65), ('border', 65), ('western', 65), ('door', 65), ('shock', 65), ('formula', 65), ('netscap', 65), ('prioriti', 65), ('lesson', 65), ('crimin', 65), ('geeg', 65), ('acquisit', 65), ('mastercard', 65), ('ecom', 65), ('vjestika', 65), ('config', 64), ('useless', 64), ('nt', 64), ('survey', 64), ('anymor', 64), ('output', 64), ('audio', 64), ('friday', 64), ('januari', 64), ('committe', 64), ('child', 64), ('pill', 64), ('highlight', 64), ('testimoni', 64), ('stabil', 64), ('renew', 64), ('jim', 64), ('partnership', 64), ('hell', 63), ('yesterday', 63), ('wednesday', 63), ('gave', 63), ('password', 63), ('unlik', 63), ('evil', 63), ('behavior', 63), ('headlin', 63), ('led', 63), ('con', 63), ('au', 63), ('christian', 63), ('spray', 63), ('marshalles', 63), ('shown', 62), ('tomorrow', 62), ('imposs', 62), ('si', 62), ('obvious', 62), ('convent', 62), ('green', 62), ('length', 62), ('prove', 62), ('station', 62), ('ffffff', 62), ('brain', 62), ('nearli', 62), ('earlier', 62), ('union', 62), ('termin', 62), ('mous', 62), ('particularli', 62), ('northern', 62), ('millionair', 62), ('trip', 62), ('il', 62), ('antiqu', 62), ('portion', 62), ('ftoc', 62), ('homeown', 62), ('bgcolor', 62), ('btw', 61), ('evalu', 61), ('archiv', 61), ('somewher', 61), ('reject', 61), ('brief', 61), ('impress', 61), ('disappear', 61), ('input', 61), ('conserv', 61), ('strictli', 61), ('map', 61), ('obviou', 61), ('signal', 61), ('babi', 61), ('kelli', 61), ('arrest', 61), ('own', 61), ('fi', 61), ('doer', 61), ('ez', 61), ('ezip', 61), ('typic', 60), ('wors', 60), ('virus', 60), ('reli', 60), ('previou', 60), ('statist', 60), ('inconveni', 60), ('tend', 60), ('everybodi', 60), ('winner', 60), ('zero', 60), ('round', 60), ('religion', 60), ('club', 60), ('frame', 60), ('threaten', 60), ('capac', 60), ('amend', 60), ('indian', 60), ('anytim', 60), ('pa', 60), ('ou', 60), ('fx', 60), ('failur', 59), ('recal', 59), ('eugen', 59), ('bin', 59), ('symbol', 59), ('brought', 59), ('viru', 59), ('sport', 59), ('foundat', 59), ('arrang', 59), ('moor', 59), ('african', 59), ('envelop', 59), ('wholesal', 59), ('receipt', 59), ('tcl', 59), ('ministri', 59), ('sendmail', 58), ('porn', 58), ('null', 58), ('english', 58), ('rob', 58), ('east', 58), ('georg', 58), ('commerc', 58), ('exclud', 58), ('tech', 58), ('mid', 58), ('vast', 58), ('electr', 58), ('planet', 58), ('laugh', 58), ('tree', 58), ('cold', 58), ('possess', 58), ('solicit', 58), ('warm', 58), ('mplayer', 58), ('prior', 57), ('mozilla', 57), ('straight', 57), ('spread', 57), ('convert', 57), ('aspect', 57), ('feed', 57), ('hate', 57), ('px', 57), ('audienc', 57), ('dramat', 57), ('satisfi', 57), ('creativ', 57), ('vulner', 57), ('prosper', 57), ('skeptic', 57), ('collabor', 57), ('tx', 57), ('abacha', 57), ('bay', 56), ('eventu', 56), ('sunday', 56), ('shot', 56), ('yeah', 56), ('unfortun', 56), ('buck', 56), ('consider', 56), ('despit', 56), ('feedback', 56), ('easiest', 56), ('approxim', 56), ('duplic', 56), ('conclud', 56), ('cancer', 56), ('edward', 56), ('domin', 56), ('farm', 56), ('thirti', 56), ('elect', 56), ('ill', 56), ('resel', 56), ('inkjet', 56), ('eacut', 56), ('revis', 55), ('ah', 55), ('encrypt', 55), ('yr', 55), ('ext', 55), ('joe', 55), ('hack', 55), ('somehow', 55), ('smaller', 55), ('began', 55), ('loos', 55), ('calcul', 55), ('legitim', 55), ('retir', 55), ('dynam', 55), ('exact', 55), ('pressur', 55), ('compens', 55), ('oppos', 55), ('televis', 55), ('yellow', 55), ('ex', 55), ('conduct', 55), ('nativ', 55), ('habea', 55), ('jodi', 55), ('specifi', 54), ('stick', 54), ('proof', 54), ('serious', 54), ('plugin', 54), ('superior', 54), ('scale', 54), ('fundament', 54), ('modem', 54), ('suck', 54), ('max', 54), ('lift', 54), ('brother', 54), ('collaps', 54), ('satisfact', 54), ('transform', 54), ('acceler', 54), ('invas', 54), ('colleagu', 54), ('chines', 54), ('congratul', 54), ('democraci', 54), ('environment', 54), ('batteri', 54), ('attain', 54), ('valhalla', 54), ('specialist', 54), ('gh', 54), ('pr', 53), ('retriev', 53), ('plug', 53), ('mike', 53), ('scientist', 53), ('rare', 53), ('candid', 53), ('strip', 53), ('bell', 53), ('excess', 53), ('penni', 53), ('strengthen', 53), ('appeal', 53), ('emot', 53), ('tremend', 53), ('liter', 53), ('volum', 53), ('camera', 53), ('visitor', 53), ('bless', 53), ('bearer', 53), ('owen', 53), ('doc', 52), ('autom', 52), ('suspect', 52), ('queri', 52), ('luck', 52), ('newspap', 52), ('artist', 52), ('ie', 52), ('aol', 52), ('appl', 52), ('cycl', 52), ('murder', 52), ('gb', 52), ('sophist', 52), ('firewal', 52), ('gambl', 52), ('lb', 52), ('registr', 52), ('paypal', 52), ('sur', 52), ('maxaman', 52), ('rank', 51), ('theori', 51), ('va', 51), ('finish', 51), ('conf', 51), ('yield', 51), ('convinc', 51), ('optim', 51), ('regardless', 51), ('minim', 51), ('race', 51), ('exceed', 51), ('realiti', 51), ('dozen', 51), ('multipart', 51), ('accur', 51), ('damag', 51), ('jar', 51), ('relax', 51), ('bear', 51), ('stress', 51), ('foot', 51), ('amateur', 51), ('remark', 51), ('floppi', 51), ('religi', 51), ('sector', 51), ('hall', 51), ('formal', 51), ('reward', 51), ('xine', 51), ('majesti', 51), ('repositori', 50), ('random', 50), ('van', 50), ('charact', 50), ('split', 50), ('que', 50), ('restrict', 50), ('push', 50), ('ben', 50), ('restor', 50), ('proxi', 50), ('label', 50), ('cancel', 50), ('attend', 50), ('writer', 50), ('odd', 50), ('engag', 50), ('asia', 50), ('op', 50), ('entiti', 50), ('decemb', 50), ('justic', 50), ('bought', 50), ('negoti', 50), ('garrigu', 50), ('ge', 50), ('casino', 50), ('tin', 50), ('phrase', 49), ('sub', 49), ('bandwidth', 49), ('ps', 49), ('schedul', 49), ('struggl', 49), ('startup', 49), ('int', 49), ('catalog', 49), ('vendor', 49), ('hook', 49), ('massiv', 49), ('analyst', 49), ('blame', 49), ('vice', 49), ('airlin', 49), ('keyboard', 49), ('ft', 49), ('scientif', 49), ('pointer', 49), ('deep', 49), ('innov', 49), ('graphic', 49), ('demonstr', 49), ('famou', 49), ('boost', 49), ('ireland', 49), ('enforc', 49), ('chairman', 49), ('du', 49), ('russia', 49), ('formul', 49), ('flag', 48), ('plain', 48), ('dig', 48), ('md', 48), ('unknown', 48), ('presum', 48), ('alter', 48), ('spambay', 48), ('serial', 48), ('bind', 48), ('jeremi', 48), ('egg', 48), ('tast', 48), ('hawaii', 48), ('fear', 48), ('assembl', 48), ('skin', 48), ('affect', 48), ('ap', 48), ('stamp', 48), ('violenc', 48), ('infrastructur', 48), ('henc', 48), ('mandat', 48), ('wrinkl', 48), ('palestinian', 48), ('tt', 48), ('mason', 47), ('inspir', 47), ('complain', 47), ('weekend', 47), ('adopt', 47), ('glad', 47), ('somebodi', 47), ('byte', 47), ('appropri', 47), ('string', 47), ('bone', 47), ('anonym', 47), ('keyword', 47), ('mountain', 47), ('mirror', 47), ('tobacco', 47), ('tape', 47), ('rdf', 47), ('affair', 47), ('focus', 47), ('battl', 47), ('rapid', 47), ('hang', 47), ('shout', 47), ('mathemat', 47), ('appoint', 47), ('rick', 47), ('gay', 47), ('climat', 47), ('inexpens', 47), ('annoy', 46), ('blog', 46), ('throw', 46), ('impact', 46), ('evolv', 46), ('brian', 46), ('perfectli', 46), ('transmiss', 46), ('pickl', 46), ('opposit', 46), ('sea', 46), ('minist', 46), ('florida', 46), ('blue', 46), ('prize', 46), ('reform', 46), ('funni', 46), ('joint', 46), ('translat', 46), ('muslim', 46), ('farquhar', 46), ('maximum', 46), ('endeavor', 46), ('scholarship', 46), ('entitl', 46), ('potent', 46), ('ir', 46), ('ag', 46), ('flat', 46), ('iroijlaplap', 46), ('snore', 46), ('num', 45), ('vari', 45), ('mix', 45), ('bunch', 45), ('inbox', 45), ('hey', 45), ('strang', 45), ('solari', 45), ('mechan', 45), ('tp', 45), ('cheap', 45), ('meant', 45), ('dog', 45), ('surviv', 45), ('prob', 45), ('elsewher', 45), ('season', 45), ('invent', 45), ('summari', 45), ('truck', 45), ('marri', 45), ('plane', 45), ('sheet', 45), ('song', 45), ('adapt', 45), ('britain', 45), ('hunt', 45), ('maker', 45), ('owe', 45), ('exhibit', 45), ('outstand', 45), ('harley', 45), ('teledynam', 45), ('picasso', 45), ('gibbon', 45), ('chat', 45), ('fwww', 45), ('addr', 44), ('craig', 44), ('empti', 44), ('retain', 44), ('complex', 44), ('crack', 44), ('corrupt', 44), ('harm', 44), ('usb', 44), ('cheaper', 44), ('exploit', 44), ('broken', 44), ('strike', 44), ('throughout', 44), ('asian', 44), ('kevin', 44), ('medicin', 44), ('lawyer', 44), ('violat', 44), ('crime', 44), ('brent', 44), ('celebr', 44), ('labor', 44), ('su', 44), ('jack', 44), ('spirit', 44), ('friendli', 44), ('schuman', 44), ('msn', 44), ('elig', 44), ('ice', 44), ('dinosaur', 44), ('mo', 44), ('buf', 44), ('dd', 44), ('helvetica', 44), ('ratak', 44), ('serif', 44), ('spamc', 43), ('overal', 43), ('resolut', 43), ('assigne', 43), ('dq', 43), ('na', 43), ('ran', 43), ('par', 43), ('experienc', 43), ('russian', 43), ('rmi', 43), ('variabl', 43), ('mailbox', 43), ('seattl', 43), ('saturday', 43), ('rise', 43), ('australia', 43), ('town', 43), ('depress', 43), ('wear', 43), ('holiday', 43), ('dark', 43), ('beach', 43), ('compel', 43), ('circumst', 43), ('lover', 43), ('sat', 43), ('cross', 43), ('honest', 43), ('clinton', 43), ('bankruptci', 43), ('tivo', 43), ('agreeabl', 43), ('coloni', 43), ('mission', 43), ('lean', 43), ('unwant', 43), ('trader', 43), ('gpg', 43), ('ng', 43), ('murjel', 43), ('viripot', 43), ('igtt', 43), ('complic', 42), ('rc', 42), ('duncan', 42), ('scam', 42), ('bigger', 42), ('thoma', 42), ('tune', 42), ('deni', 42), ('onto', 42), ('boot', 42), ('apart', 42), ('assert', 42), ('grand', 42), ('grab', 42), ('harvest', 42), ('crash', 42), ('drink', 42), ('ladi', 42), ('heavi', 42), ('argu', 42), ('regim', 42), ('ct', 42), ('leas', 42), ('weak', 42), ('angel', 42), ('marriag', 42), ('occup', 42), ('dealer', 42), ('contractor', 42), ('licenc', 42), ('angl', 42), ('erect', 42), ('advisor', 42), ('oss', 42), ('farmer', 42), ('ownership', 42), ('telecommun', 42), ('venrock', 42), ('kindli', 42), ('kabila', 42), ('+-m|a', 42), ('sl', 41), ('deploy', 41), ('correctli', 41), ('raw', 41), ('properli', 41), ('daniel', 41), ('bother', 41), ('suffici', 41), ('hugh', 41), ('trademark', 41), ('ton', 41), ('aw', 41), ('minor', 41), ('rout', 41), ('junk', 41), ('xxx', 41), ('dir', 41), ('circl', 41), ('overnight', 41), ('admit', 41), ('pp', 41), ('flight', 41), ('alert', 41), ('diseas', 41), ('pioneer', 41), ('calm', 41), ('fantasi', 41), ('portabl', 41), ('consequ', 41), ('that', 41), ('jersey', 41), ('dell', 41), ('tower', 41), ('vision', 41), ('jurisdict', 41), ('gab', 41), ('beneficiari', 41), ('zimbabw', 41), ('kin', 41), ('ebook', 41), ('protocol', 40), ('mx', 40), ('exit', 40), ('stage', 40), ('twice', 40), ('bomb', 40), ('coast', 40), ('recov', 40), ('ethic', 40), ('trivial', 40), ('export', 40), ('newsgroup', 40), ('binari', 40), ('pure', 40), ('speaker', 40), ('hospit', 40), ('london', 40), ('hide', 40), ('bag', 40), ('plenti', 40), ('pursu', 40), ('trace', 40), ('distributor', 40), ('congression', 40), ('victim', 40), ('hesit', 40), ('influenc', 40), ('everyday', 40), ('lay', 40), ('compon', 40), ('plate', 40), ('provinc', 40), ('buri', 40), ('virginia', 40), ('pic', 40), ('tn', 40), ('diploma', 40), ('pa|a', 40), ('tmp', 39), ('settl', 39), ('liberti', 39), ('msgid', 39), ('detect', 39), ('accid', 39), ('hint', 39), ('caught', 39), ('architectur', 39), ('solid', 39), ('gpl', 39), ('routin', 39), ('preserv', 39), ('floor', 39), ('cheney', 39), ('cloth', 39), ('martin', 39), ('lawsuit', 39), ('airport', 39), ('strateg', 39), ('ideal', 39), ('dma', 39), ('armi', 39), ('votr', 39), ('bulletin', 39), ('edificio', 39), ('nort', 39), ('barcelona', 39), ('ef', 39), ('ltc', 39), ('extern', 38), ('unabl', 38), ('neither', 38), ('stabl', 38), ('aim', 38), ('min', 38), ('joke', 38), ('shoot', 38), ('incorpor', 38), ('swap', 38), ('exhaust', 38), ('column', 38), ('novemb', 38), ('templat', 38), ('secondari', 38), ('bowl', 38), ('beta', 38), ('forum', 38), ('inch', 38), ('bound', 38), ('magic', 38), ('corner', 38), ('fedex', 38), ('seeker', 38), ('monkey', 38), ('liquid', 38), ('inquiri', 38), ('surfac', 38), ('coach', 38), ('recognit', 38), ('forb', 38), ('desk', 38), ('graduat', 38), ('chain', 38), ('roger', 38)]\n"
          ],
          "name": "stdout"
        }
      ]
    },
    {
      "metadata": {
        "id": "hZ2nOD-J7dz3",
        "colab_type": "code",
        "colab": {
          "base_uri": "https://localhost:8080/",
          "height": 54
        },
        "outputId": "aeda7a03-79d4-4b8d-c9a8-69d4df7ea4b8"
      },
      "cell_type": "code",
      "source": [
        "vocabulary = {w for w, c in most_frequence}\n",
        "print(vocabulary)"
      ],
      "execution_count": 114,
      "outputs": [
        {
          "output_type": "stream",
          "text": [
            "{'', 'highest', 'battl', 'planet', 'lie', 'vision', 'main', 'grant', 'cost', 'bu', 'bug', 'young', 'carrier', 'btw', 'group', 'solut', 'justin', 'pressur', 'browser', 'unsubscrib', 'corner', 'odd', 'abil', 'automat', 'usag', 'edificio', 'confer', 'steve', 'bf', 'earth', 'titl', 'document', 'print', 'threaten', 'diploma', 'ftd', 'peopl', 'recov', 'deni', 'jersey', 'ft', 'scan', 'senior', 'alon', 'doubl', 'later', 'maximum', 'casino', 'problem', 'spam', 'votr', 'next', 'ship', 'class', 'tt', 'spamassassin', 'thursday', 'decad', 'realiti', 'inde', 'owen', 'report', 'si', 'process', 'est', 'access', 'yr', 'england', 'forb', 'stream', 'focus', 'lawsuit', 'nextpart', 'dvd', 'calcul', 'ftr', 'administr', 'congress', 'download', '$?,', 'threat', 'item', 'encourag', 'compel', 'function', 'determin', 'random', 'farmer', 'stop', 'polici', 'recruit', 'regim', 'jar', 'slow', 'final', 'aa', 'blood', 'unless', 'compet', 'binari', 'western', 'command', 'chairman', 'arrest', 'situat', 'intern', 'phone', 'christian', 'trivial', 'gay', 'step', 'invest', 'saw', 'eventu', 'bush', 'huge', 'viagra', 'subject', 'jodi', 'feet', 'releas', 'password', 'md', 'elig', 'faster', 'truth', 'except', 'pick', 'allow', 'king', 'deliv', 'q', 'convers', 'hi', 'world', 'lost', 'format', 'happen', 'skeptic', 'tue', 'texa', 'oil', 'lose', 'possibl', 'massiv', 'client', 'disabl', 'code', 'lot', 'age', 'india', 'eeasi', 'craig', 'condit', 'got', 'need', 'design', 'magazin', 'case', 'court', 'hp', 'could', 'usa', 'octob', 'legal', 'target', 'heart', 'kingdom', 'copyright', 'side', 'voic', 'georg', '>>', 'affili', 'name', 'en', 'edg', 'tri', 'es', 'secondari', 'mode', 'experienc', 'call', 'weekend', 'devic', 'buri', 'believ', 'temperatur', 'entrepreneur', 'revis', 'regist', 'ab', 'peac', 'mac', 'discoveri', 'style', 'tel', 'insid', 'dealer', 'hit', 'decemb', 'mx', 'mind', 'margin', 'interview', 'includ', 'cd', 'rob', 'expens', 'men', 'weak', 'compat', 'electron', 'anymor', 'yeah', 'everyday', 'manufactur', 'product', 'round', 'paper', 'storag', 'digit', 'york', 'road', 'autom', 'region', 'move', 'kernel', 'advanc', 'safe', 'inkjet', 'everi', 'cc', 'port', 'track', 'announc', 'valu', 'realli', 'effici', 'mailer', 'classifi', 'mechan', 'alway', 'assembl', 'team', 'deathtospamdeathtospamdeathtospam', 'regular', 'statist', 'entitl', 'star', 'write', 'split', 'bankruptci', 'platform', 'ground', 'du', 'fantasi', '<<', 'retriev', 'fdiv', 'infrastructur', 'recogn', 'involv', 'execut', 'minist', 'pretti', 'contribut', 'goe', 'domest', 'satisfi', 'mime', 'site', 'ratak', 'search', 'script', 'kathmandu', 'broker', 'fee', 'listen', 'perhap', 'privat', 'flat', 'habea', 'color', 'msgid', 'unlik', 'resourc', 'domin', 'map', 'diet', 'label', 'th', 'prevent', 'consider', 'unit', 'ten', 'ir', 'labor', 'word', 'engin', 'common', 'letter', 'circumst', 'protest', 'america', 'box', 'pure', 'hate', 'rmi', 'f', 'screen', 'four', 'drug', 'irish', 'mastercard', 'presum', 'citi', 'border', 'other', 'majesti', 'mp', 'popul', 'byte', 'doer', 'superior', 'sorri', 'produc', 'anim', 'premium', 'stick', 'opportun', 'becam', 'launch', 'washington', 'proxi', 'join', 'surfac', 'good', 'australia', 'per', 'amend', 'immedi', 'book', 'associ', 'warn', 'allianc', 'complain', 'se', 'recal', 'secur', 'spamd', 'path', 'concentr', 'describ', 'hell', 'everybodi', 'rebuild', 'viru', 'everyth', 'microsoft', 'love', 'bowl', 'duplic', 'add', 'race', 'invas', 'effort', 'web', 'newslett', 'bgcolor', 'http', 'tobacco', 'visa', 'green', 'hack', 'rout', 'ebay', 'writer', 'translat', 'violat', 'predict', 'surviv', 'deposit', 'collaps', 'inform', 'big', 'acquir', 'comfort', 'island', 'articl', 'marshal', 'great', 'info', 'confus', 'gold', 'question', 'similar', 'subscript', 'type', 'alter', 'state', 'corrupt', 'pour', 'charset', 'natur', 'littl', 'null', 'chines', 'compens', 'outstand', 'wing', 'look', 'owner', 'principl', 'met', 'height', 'dynam', 'wear', 'mozilla', 'collect', 'take', 'reveal', 'author', 'land', 'put', 'station', 'friendli', 'mark', 'around', 'exmh', 'let', 'primari', 'percent', 'singl', 'picasso', 'header', 'none', 'anyon', 'winner', 'sponsorship', 'somebodi', 'serif', 'appl', 'forev', 'instead', 'protocol', 'ton', 'deliveri', 'lock', 'unseen', 'emerg', 'explain', 'channel', 'appreci', 'ban', 'il', 'invit', 'technolog', 'strateg', 'certain', 'strengthen', 'offic', 'sever', 'congression', 'gentl', 'switch', 'ge', 'boost', 'net', 'return', 'bomb', 'telephon', 'ragga', 'surpris', 'danger', 'insur', 'ff', 'planta', 'content', 'earlier', 'tomorrow', 'c', 'neighbor', 'worri', 'gab', 'tablet', 'tech', 'fl', 'mirror', 'brand', 'sub', 'excit', 'readi', 'trust', 'dozen', 'mountain', 'tx', 'due', 'entri', 'howev', 'extrem', 'trader', 'mix', 'intend', 'vou', 'de', 'lower', 'lack', 'real', 'candid', 'vjestika', 'damag', 'perfectli', 'antiqu', 'hello', 'tivo', 'prohibit', 'set', 'ratio', 'scam', 'pro', 'atol', 'refer', 'wast', 'vehicl', 'strength', 'worldwid', 'floor', 'jame', 'blame', 'clinton', 'flight', 'second', 'iroijlaplap', 'xine', 'honest', 'countri', 'modern', 'came', 'growth', 'true', 'promis', 'seventh', 'moor', 'qualifi', 'doc', 'tell', 'press', 'west', 'particularli', 'hall', 'newspap', 'exercis', 'environment', 'remain', 'toni', 'aol', 'potent', 'read', 'wall', 'sunday', 'former', 'structur', 'alb', 'walk', 'bear', 'yellow', 'inconveni', 'staff', 'geek', 'loan', 'pay', 'templat', 'advertis', 'fork', 'independ', 'valhalla', 'detect', 'pictur', 'suppli', 'yesterday', 'use', 'defin', 'warm', 'floppi', 'regard', 'seri', 'aspect', 'present', 'six', 'juli', 'ou', 'david', 'pre', 'god', 'keyword', 'women', 'tab', 'babi', 'climat', 'schuman', 'sponsor', 'polit', 'appropri', 'correct', 'fc', 'exhaust', 'obvious', 'aid', 'research', 'graphic', 'lt', 'depress', 'higher', 'think', 'bay', 'water', 'provid', 'marshalles', 'favor', 'photo', 'law', 'ie', 'locat', 'bar', 'addr', 'ng', 'cold', 'usb', 'insert', 'miss', 'vari', 'saturday', 'quot', 'drink', 'string', 'portabl', 'zero', 'inch', 'peni', 'commiss', 'headlin', 'purpos', 'monthli', 'accid', 'pack', 'negoti', 'thoma', 'technic', 'googl', 'root', 'tin', 'act', 'architectur', 'py', 'kindli', 'ago', 'directori', 'oss', 'polic', 'clear', 'watch', 'enter', 'entir', 'relev', 'profession', 'revers', 'twice', 'buck', 'cfont', 'last', 'month', 'thu', 'empti', 'recognit', 'california', 'easi', 'educ', 'choos', 'excel', 'speak', 'terrorist', 'choic', 'na', 'suffer', 'practic', 'engag', 'colleg', 'cdiv', 'mous', 'sa', 'grab', 'extend', 'alsa', 'dma', 'longer', 'corpor', 'rest', 'guidelin', 'fulli', 'stabil', 'filter', 'major', 'joe', 'mile', 'noth', 'limit', 'price', 'max', 'consist', 'bind', 'et', 'coverag', 'extens', 'folk', 'even', 'father', 'aug', 'relationship', 'never', 'despit', 'method', 'fix', 'configur', 'anti', 'hair', 'accur', 'millionair', 'thirti', 'org', 'sole', 'grand', 'pointer', 'glad', 'strang', 'po', 'pa', 'al', 'resolut', 'answer', 'gpg', 'af', 'farm', 'member', 'import', 'pacif', 'ham', 'buyer', 'catalog', 'build', 'regul', 'cheer', 'demonstr', 'want', 'chief', 'celebr', 'relax', 'florida', 'modem', 'rate', 'becom', 'initi', 'attain', 'techniqu', 'popular', 'medicin', 'reach', 'less', 'brent', 'guido', 'crime', 'yield', 'complet', 'compil', 'statement', 'found', 'rom', 'sort', 'presid', 'incom', 'decid', 'wednesday', 'z', 'vulner', 'ideal', 'tradit', 'dr', 'conserv', 'season', 'substanti', 'cbyi', 'marriag', 'key', 'px', 'reduct', 'cash', 'remov', 'toll', 'recipi', 'anoth', 'pr', 'sheet', 'employe', 'updat', 'muslim', 'annoy', 'ok', 'stuff', 'com', 'may', 'airlin', 'capit', 'thought', 'lay', 'pursu', 'variou', 'nearli', 'volum', 'trick', 'elsewher', 'servic', 'spambay', 'hand', 'also', 'fair', 'img', 'interest', 'oct', 'truck', 'num', 'nbsp', 'exclus', 'probabl', 'air', 'ed', 'five', 'base', 'care', 'year', 'convinc', 'sl', 'prove', 'domain', 'paul', 'bunch', 'spot', 'conflict', 'that', 'weekli', 'murjel', 'minimum', 'ga', 'door', 'edit', 'respons', 'daili', 'south', 'holiday', 'knowledg', 'laugh', 'wors', 'b', 'declar', 'descript', 'bigger', 'though', 'democraci', 'ad', 'commun', 'doctor', 'lead', 'ffffff', 'male', 'hold', 'inbox', 'para', 'stori', 'news', 'st', 'cours', 'wi', 'jeremi', 'particip', 'ps', 'msn', 'serv', 'led', 'room', 'k', 'organ', 'replac', 'burn', 'transform', 'hermio', 'asian', 'detail', 'near', 'verifi', 'wa', 'acceler', 'certainli', 'understand', 'plate', 'throw', 'goal', 'honor', 'annual', 'conveni', 'dinosaur', 'lender', 'ee', 'laser', 'success', 'januari', 'harm', 'sound', 'tip', 'receiv', 'bought', 'adapt', 'heaven', 'gone', 'wireless', 'achiev', 'break', 'postal', 'rss', 'open', 'march', 'transact', 'perman', 'often', 'visitor', 'univers', 'symbol', 'g', 'made', 'confid', 'mistak', 'backup', 'show', 'talk', 'guarante', 'summer', 'kin', 'request', 'wed', 'sale', 'might', 'kevin', 'assigne', 'imag', 'payment', 'bearer', 'clearli', 'intro', 'resid', 'incred', 'corpu', 'turn', 'datapow', 'cool', 'occup', 'specialist', 'way', 'place', 'hettinga', 'spent', 'refund', 'play', 'scheme', 'stage', 'consid', 'dial', 'posit', 'ladi', 'home', 'cabl', 'equiti', 'europ', 'satellit', 'offici', 'cbr', 'art', 'html', 'depend', 'ctr', 'idea', 'program', 'msg', 'much', 'held', 'signatur', 'fundament', 'boss', 'admit', 'known', 'specifi', 'pc', 'avail', 'linux', 'work', 'brain', 'suck', 'disk', 'easili', 'abus', 'eat', 'manag', 'latest', 'virtual', 'direct', 'number', 'critic', 'suspect', 'librari', 'wide', 'degre', 'tmp', 'featur', 'fe', 'judgment', 'knew', 'differ', 'permiss', 'categori', 'econom', 'behind', 'difficult', 'shock', 'proven', 'tax', 'central', 'shall', 'inspir', 'con', 'late', 'spamc', 'ffff', 'shown', 'agre', 'calm', 'score', 'portion', 'shot', 'night', 'menu', 'campaign', 'ez', 'anybodi', 'firm', 'evalu', 'option', 'terror', 'throughout', 'profil', 'src', 'funni', 'envelop', 'tabl', 'draw', 'highlight', 'dark', 'joint', 'showcas', 'aphrodisia', 'support', 'develop', 'soon', 'porn', 'gari', 'cstrong', 'cooper', 'fi', 'shoot', 'estim', 'els', 'annuiti', 'beta', 'period', 'rang', 'solari', 'file', 'financ', 'rather', 'close', 'space', 'substanc', 'half', 'student', 'electr', 'current', 'vice', 'violenc', 'propos', 'entiti', 'su', 'necessari', 'analyst', 'french', 'still', 'df', 'maintain', 'mission', 'lifetim', 'prospect', 'taken', 'plain', 'freedom', 'pp', 'scale', 'ethic', 'free', 'beach', 'coach', 'dog', 'partner', 'go', 'anonym', 'programm', 'fp', 'director', 'unabl', 'would', 'histor', 'marri', 'publish', 'cheap', 'mid', 'evil', 'os', 'regardless', 'jim', 'enforc', 'lib', 'flag', 'ag', 'incorpor', 'commerci', 'cheney', 'ffont', 'assert', 'foot', 'august', 'futur', 'appeal', 'onto', 'proper', 'zip', 'tower', 'harley', 'emot', 'alli', 'upon', 'nobodi', 'remot', 'el', 'vote', 'setup', 'influenc', 'forward', 'fli', 'boundari', 'brian', 'factor', 'remedi', 'everyon', 'pickl', 'duncan', 'hire', 'environ', 'kill', 'gh', 'mortgag', 'enhanc', 'restrict', 'instanc', 'dig', 'eye', 'comprehens', 'strike', 'agreeabl', 'deploy', 'seriou', 'greater', 'live', 'mr', 'faith', 'american', 'newsgroup', 'warranti', 'eval', 'martin', 'conf', 'ap', 'dollar', 'sweet', 'appoint', 'contact', 'contract', 'adam', 'interact', 'london', 'buf', 'useless', 'materi', 'audienc', 'enough', 'bound', 'individu', 'consult', 'mani', 'prioriti', 'earli', 'fa', 'grow', 'pgp', 'fear', 'dd', 'novemb', 'dear', 'north', 'contain', 'straight', 'impress', 'speech', 'indian', 'power', 'yahoo', 'valuabl', 'devel', 'id', 'aggress', 'ran', 'object', 'pull', 'paid', 'european', 'seen', 'partit', 'essenti', 'pudg', 'peter', 'debt', 'r', 'tune', 'licenc', 'stylu', 'spread', 'learn', 'expir', 'finish', 'templ', 'high', 'cover', 'anyway', 'given', 'account', 'sport', 'full', 'dan', 'convent', 'bodi', 'beneficiari', 'bring', 'consequ', 'prescript', 'discov', 'guid', 'refin', 'luck', 'center', 'larger', 'notic', 'bad', 'isp', 'complex', 'overal', 'risk', 'strategi', 'satisfact', 'club', 'ensur', 'congratul', 'origin', 'fedex', 'bag', 'monday', 'partnership', 'stress', 'chicago', 'lb', 'text', 'ventur', 'street', 'sophist', 'sum', 'trade', 'netscap', 'invent', 'mon', 'weight', 'biggest', 'rd', 'testimoni', 'archiv', 'visit', 'mplayer', 'wrote', 'airport', 'concern', 'attorney', 'travel', 'modifi', 'powel', 'non', 'cycl', 'raw', 'sinc', 'societi', 'strictli', 'consolid', 'sex', 'tool', 'fb', 'intellig', 'reliabl', 'anytim', 'fact', 'gpl', 'toner', 'depart', 'capac', 'oppos', 'eugen', 'cat', 'sir', 'paragraph', 'famou', 'mandat', 'push', 'daniel', 'auto', 'jabber', 'deserv', 'trip', 'licens', 'part', 'server', 'children', 'market', 'darial', 'level', 'assist', 'career', 'radio', 'right', 'bandwidth', 'investor', 'stamp', 'amaz', 'area', 'dave', 'ident', 'typic', 'cv', 'que', 'somehow', 'model', 'bless', 'back', 'rule', 'mason', 'attend', 'safeti', 'increas', 'au', 'imagin', 'cent', 'op', 'defens', 'bulk', 'consum', 'spammer', 'arial', 'date', 'master', 'dc', 'nativ', 'review', 'tm', 'offer', 'someth', 'arm', 'bc', 'reward', 'dagga', 'size', 'van', 'hear', 'past', 'promot', 'balanc', 'queri', 'hospit', 'tire', 'ye', 'catch', 'mm', 'store', 'vendor', 'swap', 'advisor', 'religion', 'invok', 'valid', 'hope', 'enjoy', 'upgrad', 'caught', 'jepson', 'bonus', 'startup', 'tom', 'dont', 'suppos', 'reli', 'mb', 'unwant', 'went', 'complianc', 'concept', 'trademark', 'win', 'summari', 'new', 'custom', 'spain', 'two', 'bank', 'mh', 'boy', 'innov', 'quickli', 'beberg', 'bone', 'illeg', 'speed', 'gave', 'shop', 'studi', 'display', 'therefor', 'sender', 'victim', 'charact', 'farquhar', 'smtp', 'cf', 'lift', 'survey', 'failur', 'amp', 'easiest', 'permit', 'defend', 'human', 'disappear', 'game', 'block', 'retain', 'token', 'institut', 'strong', 'matter', 'pound', 'boston', 'instantli', 'seeker', 'vs', 'repair', 'apt', 'civil', 'coast', 'requir', 'simpl', 'solicit', 'money', 'loss', 'expect', 'simpli', 'pa|a', 'english', 'select', 'signific', 'bonu', 'skill', 'away', 'rapid', 'sep', 'fire', 'economi', 'liber', 'note', 'reserv', 'mlm', 'mailbox', 'opt', 'oh', 'button', 'db', 'prosaka', 'scientif', 'liquid', 'cach', 'perform', 'zimbabw', 'registr', 'earn', 'exist', 'histori', 'ah', 'proof', 'formul', 'trial', 'morn', 'rick', 'definit', 'exampl', 'establish', 'cheaper', 'sat', 'paypal', 'leav', 'procedur', 'highli', 'dramat', 'middl', 'redhat', 'enterpris', 'tend', 'address', 'forum', 'child', 'ireland', 'plant', 'hotel', 'e', 'host', 'wish', 'h', 'venrock', 'preserv', 'geeg', 'foundat', 'mostli', 'anyth', 'strip', 'l', 'excess', 'experi', 'white', 'michael', 'subscrib', 'larg', 'prepar', 'u', 'smart', 'accord', 'term', 'find', 'commerc', 'etc', 'along', 'event', 'transfer', 'laserjet', 'sector', 'perl', 'sendmail', 'reg', 'capillari', 'leas', 'virus', 'unfortun', 'virginia', 'hot', 'previou', 'solv', 'herbal', 'possess', 'effect', 'billion', 'gambl', 'poor', 'republ', 'egg', 'without', 'via', 'fall', 'ministri', 'almost', 'rise', 'bother', 'evolv', 'hugh', 'buy', 'window', 'jump', 'treat', 'east', 'hint', 'ownership', 'href', 'reduc', 'pattern', 'convert', 'drop', 'camera', 'attract', 'optim', 'sell', 'check', 'barcelona', 'thing', 'awar', 'minut', 'constitut', 'sur', 'sequenc', 'iraq', 'elimin', 'agent', 'nort', 'eneen', 'russia', 'fax', 'desir', 'revenu', 'palestinian', 'nt', 'say', 'hesit', 'plan', 'la', 'school', 'actual', 'resum', 'wrong', 'televis', 'told', 'basic', 'addit', 'iii', 'unknown', 'submit', 'job', 'lo', 'searcher', 'homeown', 'view', 'tie', 'thread', 'privaci', 'field', 'cp', 'board', 'three', 'militari', 'record', 'dell', 'prior', 'cell', 'carri', 'email', 'multipart', 'ca', 'maxaman', 'plugin', 'util', 'accept', 'profit', 'complic', 'welcom', 'muscl', 'poverti', 'tn', 'credit', 'hide', 'altern', 'local', 'match', 'outsid', 'entertain', 'python', 'ice', 'provinc', 'j', 'garrigu', 'super', 'henc', 'traffic', 'var', 'argu', 'top', 'creativ', 'decis', 'cloth', 'messag', 'whole', 'usr', 'integr', 'combin', 'avoid', 'leader', 'amount', 'advic', 'kind', 'index', 'truli', 'promiscu', 'averag', 'fr', 'somewher', 'troubl', 'auction', 'keyboard', 'banner', 'plug', 'contractor', 'written', 'shout', 'woman', 'arrang', 'indic', 'speaker', 'instant', 'afford', 'sens', 'know', 'progress', 'flow', 'meet', 'cartridg', 'chanc', 'abacha', 'done', 'ben', 'self', 'length', 'friday', 'driver', 'come', 'old', 'piec', 'adult', 'coloni', 'editor', 'comput', 'formal', 'secret', 'smaller', 'multi', 'cli', 'epson', 'action', 'ef', 'chri', 'hormon', 'telecom', 'seed', 'john', 'one', 'properti', 'pipe', 'heavi', 'url', 'count', 'quick', 'gift', 'patch', 'co', '*', 'ftoc', 'obtain', 'tag', 'favorit', 'sure', 'inexpens', 'wake', 'lowest', 'today', 'transmiss', 'democrat', 'hey', 'media', 'life', 'line', 'famili', 'figur', 'succeed', 'fstrong', 'project', 'time', 'bb', 'sign', 'san', 'membership', 'approxim', 'directli', 'park', 'pop', 'collabor', 'dir', 'spirit', 'anywher', 'form', 'rel', 'schedul', 'must', 'inquiri', 'rais', 'vacat', 'stock', 'parent', 'journal', 'creat', 'pill', 'uk', 'pic', 'northern', 'teledynam', 'septemb', 'demand', 'togeth', 'nice', 'armi', 'tree', 'background', 'page', 'will', 'movi', 'x', 'expert', 'left', 'bell', 'overnight', 'confirm', 'websit', 'man', 'angl', 'pgi', 'oblig', 'list', 'reason', 'ultim', 'britain', 'apolog', 'liberti', 'unsolicit', 'click', 'brought', 'recent', 'sit', 'n', 'sensit', 'purchas', 'card', 'settlement', 'handl', 'batteri', 'beyond', 'user', 'stabl', 'realiz', 'languag', 'exchang', 'clue', 'w', 'mother', 'conclud', 'husband', 'applic', 'easier', 'dn', 'pain', 'align', 'ec', 'run', 'own', 'cancer', 'parti', 'worst', 'tremend', 'hook', 'sourc', 'mention', 'lean', 'red', 'fit', 'supplement', 'basi', 'proprietari', 'repositori', 'fastest', 'fat', 'employ', 'focu', 'repli', 'gener', 'par', 'skin', 'databas', 'measur', 'asset', 'eacut', 'introduc', 'tim', 'committe', 'third', 'gibbon', 'equival', 'brother', 'aim', 'began', 'xml', 'angel', 'instal', 'seven', 'enenkio', 'fals', 'compar', 'broken', 'magic', 'normal', 'appli', 'murphi', 'tast', 'opposit', 'train', 'prefer', 'respond', 'usual', 'lesson', 'advis', 'mo', 'feroc', 'discount', 'chat', 'exact', 'mass', 'pioneer', 'softwar', 'british', 'iso', 'memori', 'correctli', 'pleas', 'assum', 'public', 'bit', 'prompt', 'shape', 'clean', 'diseas', 'keep', 'mobil', 'circl', 'construct', 'ticket', 'behalf', 'role', 'ms', 'perfect', 'social', 'fwww', 'save', 'post', 'attempt', 'forc', 'sold', 'feder', 'person', 'bill', 'connect', 'weapon', 'rank', 'hard', 'worth', 'ill', 'doubt', 'ii', 'fail', 'bin', 'output', 'retir', 'seattl', 'award', 'deep', 'sight', 'prosper', 'prize', 'network', 'pass', 'roll', 'mathemat', 'monitor', 'commit', 'challeng', 'hous', 'mean', 'kio', 'blog', 'agreement', 'retail', 'health', 'global', 'spec', 'ltc', 'ex', 'feed', 'deal', 'receipt', 'kept', 'separ', 'default', 'total', 'wait', 'claim', 'attach', 'adopt', 'hang', 'restor', 'potenti', 'busi', 'express', 'task', 'herb', 'million', 'hundr', 'either', 'ecom', 'helvetica', 'delay', 'union', 'comment', 'mainten', 'absolut', 'fine', 'fun', 'roger', 'built', 'plu', 'input', 'instruct', 'whose', 'fresh', 'edward', 'distributor', 'front', 'forget', 'statu', '+-m|a', 'impact', 'us', 'razor', 'follow', 'ba', 'coupl', 'affair', 'friend', 'within', 'seem', 'desktop', 'percentag', 'delet', 'tuesday', 'seminar', 'panel', 'plane', 'town', 'usd', 'song', 'log', 'scienc', 'african', 'remark', 'estat', 'especi', 'week', 'distribut', 'neither', 'religi', 'centuri', 'biz', 'lawyer', 'small', 'hardwar', 'jigget', 'medic', 'uniqu', 'moment', 'kid', 'brief', 'rare', 'colleagu', 'behavior', 'settl', 'ip', 'aaaaaaaaaaaaaaaaaaaaaaaaaaaaaaaaaaaaaaaaaaaaaaaaaaaaaaaaaaaaaaaaaaaaaaaaaaaa', 'someon', 'caus', 'acknowledg', 'junk', 'va', 'procmail', 'asia', 'ne', 'mssauo', 'oper', 'least', 'phrase', 'bottom', 'murder', 'share', 'fortun', 'blank', 'modul', 'scholarship', 'teach', 'twenti', 'declin', 'industri', 'exploit', 'pocket', 'monkey', 'patent', 'fri', 'die', 'whatev', 'confidenti', 'smoke', 'tcl', 'vast', 'compon', 'fx', 'minim', 'expand', 'sea', 'test', 'implement', 'dq', 'chang', 'approv', 'amateur', 'explor', 'agenc', 'tv', 'special', 'crack', 'car', 'resolv', 'distanc', 'stupid', 'fill', 'da', 'saou', 'printer', 'crash', 'legitim', 'termin', 'scientist', 'food', 'sampl', 'pm', 'citizen', 'dragon', 'sincer', 'resel', 'player', 'smoker', 'boot', 'feel', 'audio', 'config', 'multipl', 'evid', 'happi', 'viripot', 'guy', 'urgent', 'financi', 'abl', 'dream', 'energi', 'export', 'far', 'broadcast', 'min', 'kelli', 'benefit', 'int', 'worker', 'ext', 'begin', 'serial', 'respect', 'dev', 'start', 'mine', 'frame', 'rpm', 'gb', 'activ', 'spend', 'botan', 'charg', 'roman', 'unix', 'harvest', 'exceed', 'exactli', 'toward', 'lawrenc', 'girl', 'death', 'erect', 'reject', 'crimin', 'formula', 'herba', 'assur', 'link', 'ce', 'extra', 'underwrit', 'affect', 'drive', 'strongli', 'data', 'cancel', 'routin', 'whether', 'loos', 'ever', 'solid', 'cultur', 'rdf', 'neg', 'desk', 'standard', 'encrypt', 'give', 'gain', 'help', 'long', 'interfac', 'system', 'franc', 'sf', 'ebook', 'fund', 'well', 'hidden', 'column', 'chain', 'conduct', 'gt', 'although', 'sexual', 'dead', 'laptop', 'order', 'manual', 'unlimit', 'continu', 'error', 'attack', 'son', 'beauti', 'competit', 'control', 'wrinkl', 'ct', 'repres', 'destruct', 'took', 'packag', 'investig', 'prob', 'spray', 'see', 'currenc', 'euro', 'better', 'cut', 'copi', 'blue', 'mike', 'sun', 'among', 'apart', 'merchant', 'russian', 'igtt', 'ctd', 'relat', 'im', 'correspond', 'best', 'particular', 'face', 'hat', 'hour', 'improv', 'rock', 'nation', 'ae', 'qualiti', 'norton', 'obviou', 'discuss', 'artist', 'penni', 'stay', 'result', 'end', 'v', 'analysi', 'argument', 'recommend', 'graduat', 'light', 'approach', 'onlin', 'commentari', 'serious', 'renew', 'ignor', 'bd', 'first', 'fight', 'aw', 'feedback', 'www', 'reform', 'film', 'hawaii', 'telecommun', 'xxx', 'acquisit', 'hunt', 'capabl', 'yet', 'un', 'whitelist', 'canada', 'occur', 'rc', 'le', 'core', 'signal', 'alert', 'minor', 'owe', 'imposs', 'exclud', 'kabila', 'attent', 'sleep', 'across', 'freshrpm', 'suggest', 'compani', 'wonder', 'enabl', 'sometim', 'variabl', 'jurisdict', 'machin', 'equal', 'suit', 'seek', 'cb', 'advantag', 'send', 'thousand', 'quit', 'snore', 'firewal', 'africa', 'fast', 'said', 'osdn', 'thank', 'java', 'head', 'physic', 'exit', 'varieti', 'exhibit', 'cross', 'internet', 'specif', 'echo', 'eb', 'govern', 'alreadi', 'mini', 'jack', 'june', 'lover', 'make', 'war', 'wholesal', 'inc', 'enemi', 'beat', 'PS', 'low', 'matthia', 'bottl', 'empir', 'nd', 'ac', 'guess', 'p', 'point', 'justic', 'wife', 'oz', 'tp', 'short', 'verdana', 'nigeria', 'plenti', 'reader', 'suffici', 'version', 'extract', 'section', 'wealth', 'app', 'arriv', 'rh', 'meant', 'william', 'robert', 'issu', 'char', 'music', 'appear', 'thinkgeek', 'ea', 'heard', 'ezip', 'day', 'femal', 'mail', 'theori', 'appar', 'black', 'properli', 'like', 'fd', 'rememb', 'stand', 'extern', 'equip', 'load', 'china', 'bulletin', 'otherwis', 'tape', 'struggl', 'ask', 'rich', 'joke', 'protect', 'touch', 'folder', 'opinion', 'previous', 'elect', 'endeavor', 'identifi', 'width', 'motiv', 'liter', 'sent', 'skip', 'trace', 'get', 'font', 'maker', 'video', 'largest', 'mayb', 'greg', 'foreign'}\n"
          ],
          "name": "stdout"
        }
      ]
    },
    {
      "metadata": {
        "id": "wpNZCYpT87gI",
        "colab_type": "text"
      },
      "cell_type": "markdown",
      "source": [
        "##Modelo de Regresión Logística \n"
      ]
    },
    {
      "metadata": {
        "id": "nIURUfTH89XA",
        "colab_type": "code",
        "colab": {}
      },
      "cell_type": "code",
      "source": [
        "from sklearn.feature_extraction.text import CountVectorizer\n",
        "from sklearn.utils import shuffle"
      ],
      "execution_count": 0,
      "outputs": []
    },
    {
      "metadata": {
        "id": "HUkHwScU9osT",
        "colab_type": "text"
      },
      "cell_type": "markdown",
      "source": [
        "[Convert a collection of text documents to a matrix of token counts](https://scikit-learn.org/stable/modules/generated/sklearn.feature_extraction.text.CountVectorizer.html)"
      ]
    },
    {
      "metadata": {
        "id": "N98rx6WH9KMR",
        "colab_type": "code",
        "colab": {}
      },
      "cell_type": "code",
      "source": [
        "vectorizer = CountVectorizer(vocabulary=vocabulary, lowercase=False)"
      ],
      "execution_count": 0,
      "outputs": []
    },
    {
      "metadata": {
        "id": "p67BzWar-CEn",
        "colab_type": "code",
        "colab": {}
      },
      "cell_type": "code",
      "source": [
        "X = []\n",
        "y = []\n",
        "\n",
        "#Fits transformer to X and y with optional parameters fit_params and returns a transformed version of X.\n",
        "for file in ham_token:\n",
        "    X.append(vectorizer.fit_transform([' '.join(file)]).toarray())\n",
        "    y.append('ham')\n",
        "    \n",
        "for file in spam_token:\n",
        "    X.append(vectorizer.fit_transform([' '.join(file)]).toarray())\n",
        "    y.append('spam')\n",
        "    \n",
        "x_n = np.reshape(np.array(X), (len(X), -1))"
      ],
      "execution_count": 0,
      "outputs": []
    },
    {
      "metadata": {
        "id": "cXS56Cek-w2e",
        "colab_type": "code",
        "colab": {}
      },
      "cell_type": "code",
      "source": [
        "data = pd.DataFrame(x_n, columns=vectorizer.get_feature_names())\n",
        "data['class_y'] = np.array(y)\n",
        "data = shuffle(data, random_state=12345)"
      ],
      "execution_count": 0,
      "outputs": []
    },
    {
      "metadata": {
        "id": "0Sg-ds0W_b6I",
        "colab_type": "code",
        "colab": {}
      },
      "cell_type": "code",
      "source": [
        "dataset.head(25)"
      ],
      "execution_count": 0,
      "outputs": []
    },
    {
      "metadata": {
        "id": "w14hPZIE_2sU",
        "colab_type": "text"
      },
      "cell_type": "markdown",
      "source": [
        "Construir un modelo de regresión logística como punto base para la comparación con otros modelos más complejos.\n",
        "\n",
        "https://scikit-learn.org/stable/modules/generated/sklearn.model_selection.train_test_split.html"
      ]
    },
    {
      "metadata": {
        "id": "0qT1mHQ3_3MM",
        "colab_type": "code",
        "colab": {
          "base_uri": "https://localhost:8080/",
          "height": 34
        },
        "outputId": "063c705a-fbe7-43db-ecbc-6cce2ade9deb"
      },
      "cell_type": "code",
      "source": [
        "#Split arrays or matrices into random train and test subsets\n",
        "X_train, X_test, y_train, y_test = train_test_split(data.drop(['class_y'], axis=1), data['class_y'], test_size=0.5, random_state=12345)\n",
        "\n",
        "logistic_regression = LogisticRegression(solver='liblinear')\n",
        "kfold = KFold(n_splits=20, random_state=12345)\n",
        "sol = cross_val_score(logistic_regression, X_train, y_train, cv=kfold)\n",
        "\n",
        "print(f'Mean: {sol.mean()}, Std: {sol.std()}')"
      ],
      "execution_count": 136,
      "outputs": [
        {
          "output_type": "stream",
          "text": [
            "Mean: 0.9777272727272729, Std: 0.01712255291076124\n"
          ],
          "name": "stdout"
        }
      ]
    },
    {
      "metadata": {
        "id": "nIQPPXtBb5FT",
        "colab_type": "code",
        "colab": {
          "base_uri": "https://localhost:8080/",
          "height": 34
        },
        "outputId": "d18a6422-d2f7-4aa8-dfa2-d0c1605314f8"
      },
      "cell_type": "code",
      "source": [
        "logistic_regression.fit(X_train, y_train)\n",
        "logistic_regression.score(X_test, y_test)"
      ],
      "execution_count": 140,
      "outputs": [
        {
          "output_type": "execute_result",
          "data": {
            "text/plain": [
              "0.9672727272727273"
            ]
          },
          "metadata": {
            "tags": []
          },
          "execution_count": 140
        }
      ]
    },
    {
      "metadata": {
        "id": "v5OWo2NNdObo",
        "colab_type": "code",
        "colab": {
          "base_uri": "https://localhost:8080/",
          "height": 51
        },
        "outputId": "a1f1287e-2046-4a47-c201-cddef74a8cf3"
      },
      "cell_type": "code",
      "source": [
        "logistic_regression = LogisticRegression(solver='liblinear')\n",
        "logistic_regression.fit(X_train, y_train)\n",
        "y_pred = logistic_regression.predict(X_test)\n",
        "\n",
        "confusion_matrix(y_test, y_pred)"
      ],
      "execution_count": 143,
      "outputs": [
        {
          "output_type": "execute_result",
          "data": {
            "text/plain": [
              "array([[1220,   15],\n",
              "       [  57,  908]])"
            ]
          },
          "metadata": {
            "tags": []
          },
          "execution_count": 143
        }
      ]
    },
    {
      "metadata": {
        "id": "9YNNV5TEgHNR",
        "colab_type": "text"
      },
      "cell_type": "markdown",
      "source": [
        "## Modelo de Redes Neuronales"
      ]
    },
    {
      "metadata": {
        "id": "hJNth6K0jitx",
        "colab_type": "text"
      },
      "cell_type": "markdown",
      "source": [
        "Construimos el modelo"
      ]
    },
    {
      "metadata": {
        "id": "J0_mif7wh8xi",
        "colab_type": "code",
        "colab": {}
      },
      "cell_type": "code",
      "source": [
        "def model_building(n,m):\n",
        "  model = Sequential()\n",
        "  model.add(Dense(units=n, activation='relu', input_shape=(2500,)))\n",
        "  model.add(Dropout(0.3))\n",
        "  model.add(Dense(units=m, activation='relu'))\n",
        "  model.add(Dense(units=1, activation='sigmoid'))\n",
        "  model.compile(optimizer='adam',loss='binary_crossentropy',metrics=['accuracy'])\n",
        "  return model\n"
      ],
      "execution_count": 0,
      "outputs": []
    },
    {
      "metadata": {
        "id": "GshoBI3RsZg4",
        "colab_type": "text"
      },
      "cell_type": "markdown",
      "source": [
        "Utiizar una técnica como crossvalidation u otra similar para establecer la robustez del modelo."
      ]
    },
    {
      "metadata": {
        "id": "cwJHwz84oNoD",
        "colab_type": "code",
        "colab": {}
      },
      "cell_type": "code",
      "source": [
        "def eval_model_crossval(model, X, y, cv=10, seed=12345):\n",
        "  kf = KFold(n_splits=10, random_state=seed)\n",
        "  scores = cross_val_score(model, X, y, cv=kf)\n",
        "  print(f'Cross Validation Score: {scores.mean():0.4f} +- {(scores.std()*2):0.4f}')\n"
      ],
      "execution_count": 0,
      "outputs": []
    },
    {
      "metadata": {
        "id": "Ot-brbQRlYBk",
        "colab_type": "code",
        "colab": {
          "base_uri": "https://localhost:8080/",
          "height": 34
        },
        "outputId": "e51ee3d9-f84f-4ebc-aaf3-13a58d3745e0"
      },
      "cell_type": "code",
      "source": [
        "\n",
        "classifier = KerasClassifier(build_fn=model_building, n=512, m=256, epochs=10, batch_size=16, verbose=0)\n",
        "eval_model_crossval(classifier, X_train, y_train, cv=10)"
      ],
      "execution_count": 165,
      "outputs": [
        {
          "output_type": "stream",
          "text": [
            "Cross Validation Score: 0.9709 +- 0.0183\n"
          ],
          "name": "stdout"
        }
      ]
    },
    {
      "metadata": {
        "id": "7vgZEYEsuVRn",
        "colab_type": "text"
      },
      "cell_type": "markdown",
      "source": [
        "Comparando el resultado de la validación cruzada **(0.9709 +- 0.0183)** es un poco más preciso que la regresión logistica **(0.97772 +- 0.0171)**"
      ]
    },
    {
      "metadata": {
        "id": "zuoY4HDBy3eW",
        "colab_type": "text"
      },
      "cell_type": "markdown",
      "source": [
        "### Presentar métricas de desempeño para establecer las bondades y falencias de cada clasificador."
      ]
    },
    {
      "metadata": {
        "id": "uRSdihzSzEW6",
        "colab_type": "text"
      },
      "cell_type": "markdown",
      "source": [
        "https://www.codeproject.com/Articles/1232040/Spam-classification-using-Python-and-Keras"
      ]
    },
    {
      "metadata": {
        "id": "k3hAOChPuzW2",
        "colab_type": "code",
        "colab": {}
      },
      "cell_type": "code",
      "source": [
        "import matplotlib.pyplot as pyplot\n",
        "%matplotlib inline\n",
        "\n",
        "#Tomando como referencia los valores usados para la validación cruzada:\n",
        "history = classifier.fit(X_train,y_train,epochs=10,batch_size=16,validation_split=0.3)"
      ],
      "execution_count": 0,
      "outputs": []
    },
    {
      "metadata": {
        "id": "xhqhYVnwvSNK",
        "colab_type": "code",
        "colab": {
          "base_uri": "https://localhost:8080/",
          "height": 571
        },
        "outputId": "6d24f05e-8249-45b4-e6ea-728e1e2958c5"
      },
      "cell_type": "code",
      "source": [
        "def plot_accuracy(history):\n",
        "    pyplot.plot(history.history['acc'])\n",
        "    pyplot.plot(history.history['val_acc'])\n",
        "    pyplot.title('Model Accuracy')\n",
        "    pyplot.ylabel('Accuracy')\n",
        "    pyplot.xlabel('epoch')\n",
        "    pyplot.legend(['Training', 'Validation'], loc='lower right')\n",
        "    pyplot.show()\n",
        "\n",
        "def plot_loss(history):\n",
        "    pyplot.plot(history.history['loss'])\n",
        "    pyplot.plot(history.history['val_loss'])\n",
        "    pyplot.title('Model Loss')\n",
        "    pyplot.ylabel('Loss')\n",
        "    pyplot.xlabel('epoch')\n",
        "    pyplot.legend(['Training', 'Validation'], loc='upper right')\n",
        "    pyplot.show()\n",
        "\n",
        "\n",
        "plot_accuracy(history)\n",
        "plot_loss(history)"
      ],
      "execution_count": 182,
      "outputs": [
        {
          "output_type": "display_data",
          "data": {
            "image/png": "[encoded data removed]",
            "text/plain": [
              "<Figure size 432x288 with 1 Axes>"
            ]
          },
          "metadata": {
            "tags": []
          }
        },
        {
          "output_type": "display_data",
          "data": {
            "image/png": "[encoded data removed]",
            "text/plain": [
              "<Figure size 432x288 with 1 Axes>"
            ]
          },
          "metadata": {
            "tags": []
          }
        }
      ]
    },
    {
      "metadata": {
        "id": "ojSUfqalz8Ps",
        "colab_type": "text"
      },
      "cell_type": "markdown",
      "source": [
        "A partir de esto, vemos que los valores usados en el modelo no son lo] mejor que puede ofrecer. Es recomendable volver a ejecutar cambiando los parametros:"
      ]
    },
    {
      "metadata": {
        "id": "CrbU1n_40Ppe",
        "colab_type": "code",
        "colab": {}
      },
      "cell_type": "code",
      "source": [
        "history = classifier.fit(X_train,y_train,epochs=16,batch_size=100,validation_split=0.3)"
      ],
      "execution_count": 0,
      "outputs": []
    },
    {
      "metadata": {
        "id": "LKI7RUh60g4k",
        "colab_type": "code",
        "colab": {
          "base_uri": "https://localhost:8080/",
          "height": 571
        },
        "outputId": "d71c8f56-0c08-4481-8b6c-776bbe72e219"
      },
      "cell_type": "code",
      "source": [
        "plot_accuracy(history)\n",
        "plot_loss(history)"
      ],
      "execution_count": 189,
      "outputs": [
        {
          "output_type": "display_data",
          "data": {
            "image/png": "[encoded data removed]",
            "text/plain": [
              "<Figure size 432x288 with 1 Axes>"
            ]
          },
          "metadata": {
            "tags": []
          }
        },
        {
          "output_type": "display_data",
          "data": {
            "image/png": "[encoded data removed]",
            "text/plain": [
              "<Figure size 432x288 with 1 Axes>"
            ]
          },
          "metadata": {
            "tags": []
          }
        }
      ]
    },
    {
      "metadata": {
        "id": "mYZqiuM30-mJ",
        "colab_type": "text"
      },
      "cell_type": "markdown",
      "source": [
        "Obtenemos mejores resultados aumentando las iteraciones a **16** y el batch a **100**. ¿Cambiará el valor de **Cross Validation Score** con estos parametros?"
      ]
    },
    {
      "metadata": {
        "id": "B3VDU34d1FcC",
        "colab_type": "code",
        "colab": {
          "base_uri": "https://localhost:8080/",
          "height": 34
        },
        "outputId": "c1da7479-cedb-4675-97be-2c40e77d8acd"
      },
      "cell_type": "code",
      "source": [
        "classifier = KerasClassifier(build_fn=model_building, n=512, m=256, epochs=16, batch_size=100, verbose=0)\n",
        "eval_model_crossval(classifier, X_train, y_train, cv=10)"
      ],
      "execution_count": 190,
      "outputs": [
        {
          "output_type": "stream",
          "text": [
            "Cross Validation Score: 0.9773 +- 0.0141\n"
          ],
          "name": "stdout"
        }
      ]
    },
    {
      "metadata": {
        "id": "85yuX1622Un6",
        "colab_type": "text"
      },
      "cell_type": "markdown",
      "source": [
        "Estos parámetros representan una pequeña mejora. En síntesis, el modelo presenta una precisión de rápido crecimiento, y la perdida decae rapidamente hasta alcanzas valores cercanos a cero."
      ]
    }
  ]
}